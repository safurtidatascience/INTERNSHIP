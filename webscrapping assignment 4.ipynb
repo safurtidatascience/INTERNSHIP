{
 "cells": [
  {
   "cell_type": "code",
   "execution_count": 252,
   "id": "a68a6df2",
   "metadata": {},
   "outputs": [
    {
     "name": "stdout",
     "output_type": "stream",
     "text": [
      "Requirement already satisfied: selenium in c:\\users\\91991\\anaconda3\\anaconda\\lib\\site-packages (4.16.0)\n",
      "Requirement already satisfied: certifi>=2021.10.8 in c:\\users\\91991\\anaconda3\\anaconda\\lib\\site-packages (from selenium) (2022.12.7)\n",
      "Requirement already satisfied: trio-websocket~=0.9 in c:\\users\\91991\\anaconda3\\anaconda\\lib\\site-packages (from selenium) (0.11.1)\n",
      "Requirement already satisfied: trio~=0.17 in c:\\users\\91991\\anaconda3\\anaconda\\lib\\site-packages (from selenium) (0.24.0)\n",
      "Requirement already satisfied: urllib3[socks]<3,>=1.26 in c:\\users\\91991\\anaconda3\\anaconda\\lib\\site-packages (from selenium) (1.26.14)\n",
      "Requirement already satisfied: attrs>=20.1.0 in c:\\users\\91991\\anaconda3\\anaconda\\lib\\site-packages (from trio~=0.17->selenium) (22.1.0)\n",
      "Requirement already satisfied: cffi>=1.14 in c:\\users\\91991\\anaconda3\\anaconda\\lib\\site-packages (from trio~=0.17->selenium) (1.15.1)\n",
      "Requirement already satisfied: sortedcontainers in c:\\users\\91991\\anaconda3\\anaconda\\lib\\site-packages (from trio~=0.17->selenium) (2.4.0)\n",
      "Requirement already satisfied: idna in c:\\users\\91991\\anaconda3\\anaconda\\lib\\site-packages (from trio~=0.17->selenium) (3.4)\n",
      "Requirement already satisfied: sniffio>=1.3.0 in c:\\users\\91991\\anaconda3\\anaconda\\lib\\site-packages (from trio~=0.17->selenium) (1.3.0)\n",
      "Requirement already satisfied: outcome in c:\\users\\91991\\anaconda3\\anaconda\\lib\\site-packages (from trio~=0.17->selenium) (1.3.0.post0)\n",
      "Requirement already satisfied: exceptiongroup in c:\\users\\91991\\anaconda3\\anaconda\\lib\\site-packages (from trio~=0.17->selenium) (1.2.0)\n",
      "Requirement already satisfied: wsproto>=0.14 in c:\\users\\91991\\anaconda3\\anaconda\\lib\\site-packages (from trio-websocket~=0.9->selenium) (1.2.0)\n",
      "Requirement already satisfied: PySocks!=1.5.7,<2.0,>=1.5.6 in c:\\users\\91991\\anaconda3\\anaconda\\lib\\site-packages (from urllib3[socks]<3,>=1.26->selenium) (1.7.1)\n",
      "Requirement already satisfied: pycparser in c:\\users\\91991\\anaconda3\\anaconda\\lib\\site-packages (from cffi>=1.14->trio~=0.17->selenium) (2.21)\n",
      "Requirement already satisfied: h11<1,>=0.9.0 in c:\\users\\91991\\anaconda3\\anaconda\\lib\\site-packages (from wsproto>=0.14->trio-websocket~=0.9->selenium) (0.14.0)\n"
     ]
    }
   ],
   "source": [
    "!pip install selenium"
   ]
  },
  {
   "cell_type": "code",
   "execution_count": 253,
   "id": "85bd996c",
   "metadata": {},
   "outputs": [],
   "source": [
    "import pandas as pd\n",
    "from selenium import webdriver\n",
    "import warnings\n",
    "warnings.filterwarnings('ignore')\n",
    "from selenium.webdriver.common.by import By\n",
    "import time\n",
    "\n",
    "from selenium.common.exceptions import StaleElementReferenceException,NoSuchElementException\n",
    "import requests\n"
   ]
  },
  {
   "cell_type": "markdown",
   "id": "d926362a",
   "metadata": {},
   "source": [
    "# QUESTION NO 1 SCRAPPING DETAILS OF MOST VIEWED VIDEOS ON YOU TUBE"
   ]
  },
  {
   "cell_type": "code",
   "execution_count": 110,
   "id": "88085658",
   "metadata": {},
   "outputs": [],
   "source": [
    "driver=webdriver.Chrome()"
   ]
  },
  {
   "cell_type": "code",
   "execution_count": 111,
   "id": "cf0c9e77",
   "metadata": {},
   "outputs": [],
   "source": [
    "driver.get(\"https://en.wikipedia.org/wiki/List_of_most-viewed_YouTube_videos\")"
   ]
  },
  {
   "cell_type": "code",
   "execution_count": 112,
   "id": "f393db15",
   "metadata": {},
   "outputs": [
    {
     "name": "stdout",
     "output_type": "stream",
     "text": [
      "[[], [], ['\"Baby Shark Dance\"[6]', \"Pinkfong Baby Shark - Kids' Songs & Stories\", '14.09', 'June 17, 2016', '[A]'], ['\"Despacito\"[9]', 'Luis Fonsi', '8.38', 'January 12, 2017', '[B]'], ['\"Johny Johny Yes Papa\"[17]', \"LooLoo Kids - Nursery Rhymes and Children's Songs\", '6.87', 'October 8, 2016', ''], ['\"Bath Song\"[18]', 'Cocomelon - Nursery Rhymes', '6.62', 'May 2, 2018', ''], ['\"Shape of You\"[19]', 'Ed Sheeran', '6.20', 'January 30, 2017', '[C]'], ['\"See You Again\"[22]', 'Wiz Khalifa', '6.17', 'April 6, 2015', '[D]'], ['\"Wheels on the Bus\"[27]', 'Cocomelon - Nursery Rhymes', '5.88', 'May 24, 2018', ''], ['\"Phonics Song with Two Words\"[28]', 'ChuChu TV Nursery Rhymes & Kids Songs', '5.70', 'March 6, 2014', ''], ['\"Uptown Funk\"[29]', 'Mark Ronson', '5.15', 'November 19, 2014', ''], ['\"Learning Colors – Colorful Eggs on a Farm\"[30]', 'Miroshka TV', '5.07', 'February 27, 2018', ''], ['\"Gangnam Style\"[31]', 'Psy', '5.05', 'July 15, 2012', '[E]'], ['\"Masha and the Bear – Recipe for Disaster\"[36]', 'Get Movies', '4.58', 'January 31, 2012', ''], ['\"Dame Tu Cosita\"[37]', 'Ultra Records', '4.55', 'April 5, 2018', ''], ['\"Axel F\"[38]', 'Crazy Frog', '4.34', 'June 16, 2009', ''], ['\"Sugar\"[39]', 'Maroon 5', '4.00', 'January 14, 2015', ''], ['\"Counting Stars\"[40]', 'OneRepublic', '3.97', 'May 31, 2013', ''], ['\"Baa Baa Black Sheep\"[41]', 'Cocomelon - Nursery Rhymes', '3.96', 'June 25, 2018', ''], ['\"Roar\"[42]', 'Katy Perry', '3.96', 'September 5, 2013', ''], ['\"Lakdi Ki Kathi\"[43]', 'Jingle Toons', '3.91', 'June 14, 2018', ''], ['\"Waka Waka (This Time for Africa)\"[44]', 'Shakira', '3.85', 'June 4, 2010', ''], ['\"Sorry\"[45]', 'Justin Bieber', '3.77', 'October 22, 2015', ''], ['\"Thinking Out Loud\"[46]', 'Ed Sheeran', '3.73', 'October 7, 2014', ''], ['\"Humpty the train on a fruits ride\"[47]', 'Kiddiestv Hindi - Nursery Rhymes & Kids Songs', '3.73', 'January 26, 2018', ''], ['\"Shree Hanuman Chalisa\"[48]', 'T-Series Bhakti Sagar', '3.69', 'May 10, 2011', ''], ['\"Dark Horse\"[49]', 'Katy Perry', '3.67', 'February 20, 2014', ''], ['\"Perfect\"[50]', 'Ed Sheeran', '3.67', 'November 9, 2017', ''], ['\"Let Her Go\"[51]', 'Passenger', '3.61', 'July 25, 2012', ''], ['\"Faded\"[52]', 'Alan Walker', '3.59', 'December 3, 2015', ''], ['\"Girls Like You\"[53]', 'Maroon 5', '3.56', 'May 31, 2018', ''], ['\"Lean On\"[54]', 'Major Lazer Official', '3.55', 'March 22, 2015', ''], []]\n"
     ]
    }
   ],
   "source": [
    "table=driver.find_element(By.XPATH,'//table[@class=\"sortable wikitable sticky-header static-row-numbers col3center col4right jquery-tablesorter\"]')\n",
    "rows=table.find_elements(By.TAG_NAME,'tr')\n",
    "tablerow=[]\n",
    "for row in rows:\n",
    "    columns=row.find_elements(By.TAG_NAME,'td')\n",
    "    row_data=[column.text for column in columns]\n",
    "    tablerow.append(row_data)\n",
    "    \n",
    "    \n",
    "    \n",
    "print(tablerow)    "
   ]
  },
  {
   "cell_type": "code",
   "execution_count": 113,
   "id": "839ac3a1",
   "metadata": {},
   "outputs": [
    {
     "data": {
      "text/html": [
       "<div>\n",
       "<style scoped>\n",
       "    .dataframe tbody tr th:only-of-type {\n",
       "        vertical-align: middle;\n",
       "    }\n",
       "\n",
       "    .dataframe tbody tr th {\n",
       "        vertical-align: top;\n",
       "    }\n",
       "\n",
       "    .dataframe thead th {\n",
       "        text-align: right;\n",
       "    }\n",
       "</style>\n",
       "<table border=\"1\" class=\"dataframe\">\n",
       "  <thead>\n",
       "    <tr style=\"text-align: right;\">\n",
       "      <th></th>\n",
       "      <th>video name</th>\n",
       "      <th>artist</th>\n",
       "      <th>views</th>\n",
       "      <th>date</th>\n",
       "      <th>Rank</th>\n",
       "    </tr>\n",
       "  </thead>\n",
       "  <tbody>\n",
       "    <tr>\n",
       "      <th>0</th>\n",
       "      <td>\"Baby Shark Dance\"[6]</td>\n",
       "      <td>Pinkfong Baby Shark - Kids' Songs &amp; Stories</td>\n",
       "      <td>14.09</td>\n",
       "      <td>June 17, 2016</td>\n",
       "      <td>1</td>\n",
       "    </tr>\n",
       "    <tr>\n",
       "      <th>1</th>\n",
       "      <td>\"Despacito\"[9]</td>\n",
       "      <td>Luis Fonsi</td>\n",
       "      <td>8.38</td>\n",
       "      <td>January 12, 2017</td>\n",
       "      <td>2</td>\n",
       "    </tr>\n",
       "    <tr>\n",
       "      <th>2</th>\n",
       "      <td>\"Johny Johny Yes Papa\"[17]</td>\n",
       "      <td>LooLoo Kids - Nursery Rhymes and Children's Songs</td>\n",
       "      <td>6.87</td>\n",
       "      <td>October 8, 2016</td>\n",
       "      <td>3</td>\n",
       "    </tr>\n",
       "    <tr>\n",
       "      <th>3</th>\n",
       "      <td>\"Bath Song\"[18]</td>\n",
       "      <td>Cocomelon - Nursery Rhymes</td>\n",
       "      <td>6.62</td>\n",
       "      <td>May 2, 2018</td>\n",
       "      <td>4</td>\n",
       "    </tr>\n",
       "    <tr>\n",
       "      <th>4</th>\n",
       "      <td>\"Shape of You\"[19]</td>\n",
       "      <td>Ed Sheeran</td>\n",
       "      <td>6.20</td>\n",
       "      <td>January 30, 2017</td>\n",
       "      <td>5</td>\n",
       "    </tr>\n",
       "    <tr>\n",
       "      <th>5</th>\n",
       "      <td>\"See You Again\"[22]</td>\n",
       "      <td>Wiz Khalifa</td>\n",
       "      <td>6.17</td>\n",
       "      <td>April 6, 2015</td>\n",
       "      <td>6</td>\n",
       "    </tr>\n",
       "    <tr>\n",
       "      <th>6</th>\n",
       "      <td>\"Wheels on the Bus\"[27]</td>\n",
       "      <td>Cocomelon - Nursery Rhymes</td>\n",
       "      <td>5.88</td>\n",
       "      <td>May 24, 2018</td>\n",
       "      <td>7</td>\n",
       "    </tr>\n",
       "    <tr>\n",
       "      <th>7</th>\n",
       "      <td>\"Phonics Song with Two Words\"[28]</td>\n",
       "      <td>ChuChu TV Nursery Rhymes &amp; Kids Songs</td>\n",
       "      <td>5.70</td>\n",
       "      <td>March 6, 2014</td>\n",
       "      <td>8</td>\n",
       "    </tr>\n",
       "    <tr>\n",
       "      <th>8</th>\n",
       "      <td>\"Uptown Funk\"[29]</td>\n",
       "      <td>Mark Ronson</td>\n",
       "      <td>5.15</td>\n",
       "      <td>November 19, 2014</td>\n",
       "      <td>9</td>\n",
       "    </tr>\n",
       "    <tr>\n",
       "      <th>9</th>\n",
       "      <td>\"Learning Colors – Colorful Eggs on a Farm\"[30]</td>\n",
       "      <td>Miroshka TV</td>\n",
       "      <td>5.07</td>\n",
       "      <td>February 27, 2018</td>\n",
       "      <td>10</td>\n",
       "    </tr>\n",
       "    <tr>\n",
       "      <th>10</th>\n",
       "      <td>\"Gangnam Style\"[31]</td>\n",
       "      <td>Psy</td>\n",
       "      <td>5.05</td>\n",
       "      <td>July 15, 2012</td>\n",
       "      <td>11</td>\n",
       "    </tr>\n",
       "    <tr>\n",
       "      <th>11</th>\n",
       "      <td>\"Masha and the Bear – Recipe for Disaster\"[36]</td>\n",
       "      <td>Get Movies</td>\n",
       "      <td>4.58</td>\n",
       "      <td>January 31, 2012</td>\n",
       "      <td>12</td>\n",
       "    </tr>\n",
       "    <tr>\n",
       "      <th>12</th>\n",
       "      <td>\"Dame Tu Cosita\"[37]</td>\n",
       "      <td>Ultra Records</td>\n",
       "      <td>4.55</td>\n",
       "      <td>April 5, 2018</td>\n",
       "      <td>13</td>\n",
       "    </tr>\n",
       "    <tr>\n",
       "      <th>13</th>\n",
       "      <td>\"Axel F\"[38]</td>\n",
       "      <td>Crazy Frog</td>\n",
       "      <td>4.34</td>\n",
       "      <td>June 16, 2009</td>\n",
       "      <td>14</td>\n",
       "    </tr>\n",
       "    <tr>\n",
       "      <th>14</th>\n",
       "      <td>\"Sugar\"[39]</td>\n",
       "      <td>Maroon 5</td>\n",
       "      <td>4.00</td>\n",
       "      <td>January 14, 2015</td>\n",
       "      <td>15</td>\n",
       "    </tr>\n",
       "    <tr>\n",
       "      <th>15</th>\n",
       "      <td>\"Counting Stars\"[40]</td>\n",
       "      <td>OneRepublic</td>\n",
       "      <td>3.97</td>\n",
       "      <td>May 31, 2013</td>\n",
       "      <td>16</td>\n",
       "    </tr>\n",
       "    <tr>\n",
       "      <th>16</th>\n",
       "      <td>\"Baa Baa Black Sheep\"[41]</td>\n",
       "      <td>Cocomelon - Nursery Rhymes</td>\n",
       "      <td>3.96</td>\n",
       "      <td>June 25, 2018</td>\n",
       "      <td>17</td>\n",
       "    </tr>\n",
       "    <tr>\n",
       "      <th>17</th>\n",
       "      <td>\"Roar\"[42]</td>\n",
       "      <td>Katy Perry</td>\n",
       "      <td>3.96</td>\n",
       "      <td>September 5, 2013</td>\n",
       "      <td>18</td>\n",
       "    </tr>\n",
       "    <tr>\n",
       "      <th>18</th>\n",
       "      <td>\"Lakdi Ki Kathi\"[43]</td>\n",
       "      <td>Jingle Toons</td>\n",
       "      <td>3.91</td>\n",
       "      <td>June 14, 2018</td>\n",
       "      <td>19</td>\n",
       "    </tr>\n",
       "    <tr>\n",
       "      <th>19</th>\n",
       "      <td>\"Waka Waka (This Time for Africa)\"[44]</td>\n",
       "      <td>Shakira</td>\n",
       "      <td>3.85</td>\n",
       "      <td>June 4, 2010</td>\n",
       "      <td>20</td>\n",
       "    </tr>\n",
       "    <tr>\n",
       "      <th>20</th>\n",
       "      <td>\"Sorry\"[45]</td>\n",
       "      <td>Justin Bieber</td>\n",
       "      <td>3.77</td>\n",
       "      <td>October 22, 2015</td>\n",
       "      <td>21</td>\n",
       "    </tr>\n",
       "    <tr>\n",
       "      <th>21</th>\n",
       "      <td>\"Thinking Out Loud\"[46]</td>\n",
       "      <td>Ed Sheeran</td>\n",
       "      <td>3.73</td>\n",
       "      <td>October 7, 2014</td>\n",
       "      <td>22</td>\n",
       "    </tr>\n",
       "    <tr>\n",
       "      <th>22</th>\n",
       "      <td>\"Humpty the train on a fruits ride\"[47]</td>\n",
       "      <td>Kiddiestv Hindi - Nursery Rhymes &amp; Kids Songs</td>\n",
       "      <td>3.73</td>\n",
       "      <td>January 26, 2018</td>\n",
       "      <td>23</td>\n",
       "    </tr>\n",
       "    <tr>\n",
       "      <th>23</th>\n",
       "      <td>\"Shree Hanuman Chalisa\"[48]</td>\n",
       "      <td>T-Series Bhakti Sagar</td>\n",
       "      <td>3.69</td>\n",
       "      <td>May 10, 2011</td>\n",
       "      <td>24</td>\n",
       "    </tr>\n",
       "    <tr>\n",
       "      <th>24</th>\n",
       "      <td>\"Dark Horse\"[49]</td>\n",
       "      <td>Katy Perry</td>\n",
       "      <td>3.67</td>\n",
       "      <td>February 20, 2014</td>\n",
       "      <td>25</td>\n",
       "    </tr>\n",
       "    <tr>\n",
       "      <th>25</th>\n",
       "      <td>\"Perfect\"[50]</td>\n",
       "      <td>Ed Sheeran</td>\n",
       "      <td>3.67</td>\n",
       "      <td>November 9, 2017</td>\n",
       "      <td>26</td>\n",
       "    </tr>\n",
       "    <tr>\n",
       "      <th>26</th>\n",
       "      <td>\"Let Her Go\"[51]</td>\n",
       "      <td>Passenger</td>\n",
       "      <td>3.61</td>\n",
       "      <td>July 25, 2012</td>\n",
       "      <td>27</td>\n",
       "    </tr>\n",
       "    <tr>\n",
       "      <th>27</th>\n",
       "      <td>\"Faded\"[52]</td>\n",
       "      <td>Alan Walker</td>\n",
       "      <td>3.59</td>\n",
       "      <td>December 3, 2015</td>\n",
       "      <td>28</td>\n",
       "    </tr>\n",
       "    <tr>\n",
       "      <th>28</th>\n",
       "      <td>\"Girls Like You\"[53]</td>\n",
       "      <td>Maroon 5</td>\n",
       "      <td>3.56</td>\n",
       "      <td>May 31, 2018</td>\n",
       "      <td>29</td>\n",
       "    </tr>\n",
       "    <tr>\n",
       "      <th>29</th>\n",
       "      <td>\"Lean On\"[54]</td>\n",
       "      <td>Major Lazer Official</td>\n",
       "      <td>3.55</td>\n",
       "      <td>March 22, 2015</td>\n",
       "      <td>30</td>\n",
       "    </tr>\n",
       "    <tr>\n",
       "      <th>30</th>\n",
       "      <td>None</td>\n",
       "      <td>None</td>\n",
       "      <td>None</td>\n",
       "      <td>None</td>\n",
       "      <td>31</td>\n",
       "    </tr>\n",
       "  </tbody>\n",
       "</table>\n",
       "</div>"
      ],
      "text/plain": [
       "                                         video name  \\\n",
       "0                             \"Baby Shark Dance\"[6]   \n",
       "1                                    \"Despacito\"[9]   \n",
       "2                        \"Johny Johny Yes Papa\"[17]   \n",
       "3                                   \"Bath Song\"[18]   \n",
       "4                                \"Shape of You\"[19]   \n",
       "5                               \"See You Again\"[22]   \n",
       "6                           \"Wheels on the Bus\"[27]   \n",
       "7                 \"Phonics Song with Two Words\"[28]   \n",
       "8                                 \"Uptown Funk\"[29]   \n",
       "9   \"Learning Colors – Colorful Eggs on a Farm\"[30]   \n",
       "10                              \"Gangnam Style\"[31]   \n",
       "11   \"Masha and the Bear – Recipe for Disaster\"[36]   \n",
       "12                             \"Dame Tu Cosita\"[37]   \n",
       "13                                     \"Axel F\"[38]   \n",
       "14                                      \"Sugar\"[39]   \n",
       "15                             \"Counting Stars\"[40]   \n",
       "16                        \"Baa Baa Black Sheep\"[41]   \n",
       "17                                       \"Roar\"[42]   \n",
       "18                             \"Lakdi Ki Kathi\"[43]   \n",
       "19           \"Waka Waka (This Time for Africa)\"[44]   \n",
       "20                                      \"Sorry\"[45]   \n",
       "21                          \"Thinking Out Loud\"[46]   \n",
       "22          \"Humpty the train on a fruits ride\"[47]   \n",
       "23                      \"Shree Hanuman Chalisa\"[48]   \n",
       "24                                 \"Dark Horse\"[49]   \n",
       "25                                    \"Perfect\"[50]   \n",
       "26                                 \"Let Her Go\"[51]   \n",
       "27                                      \"Faded\"[52]   \n",
       "28                             \"Girls Like You\"[53]   \n",
       "29                                    \"Lean On\"[54]   \n",
       "30                                             None   \n",
       "\n",
       "                                               artist  views  \\\n",
       "0         Pinkfong Baby Shark - Kids' Songs & Stories  14.09   \n",
       "1                                          Luis Fonsi   8.38   \n",
       "2   LooLoo Kids - Nursery Rhymes and Children's Songs   6.87   \n",
       "3                          Cocomelon - Nursery Rhymes   6.62   \n",
       "4                                          Ed Sheeran   6.20   \n",
       "5                                         Wiz Khalifa   6.17   \n",
       "6                          Cocomelon - Nursery Rhymes   5.88   \n",
       "7               ChuChu TV Nursery Rhymes & Kids Songs   5.70   \n",
       "8                                         Mark Ronson   5.15   \n",
       "9                                         Miroshka TV   5.07   \n",
       "10                                                Psy   5.05   \n",
       "11                                         Get Movies   4.58   \n",
       "12                                      Ultra Records   4.55   \n",
       "13                                         Crazy Frog   4.34   \n",
       "14                                           Maroon 5   4.00   \n",
       "15                                        OneRepublic   3.97   \n",
       "16                         Cocomelon - Nursery Rhymes   3.96   \n",
       "17                                         Katy Perry   3.96   \n",
       "18                                       Jingle Toons   3.91   \n",
       "19                                            Shakira   3.85   \n",
       "20                                      Justin Bieber   3.77   \n",
       "21                                         Ed Sheeran   3.73   \n",
       "22      Kiddiestv Hindi - Nursery Rhymes & Kids Songs   3.73   \n",
       "23                              T-Series Bhakti Sagar   3.69   \n",
       "24                                         Katy Perry   3.67   \n",
       "25                                         Ed Sheeran   3.67   \n",
       "26                                          Passenger   3.61   \n",
       "27                                        Alan Walker   3.59   \n",
       "28                                           Maroon 5   3.56   \n",
       "29                               Major Lazer Official   3.55   \n",
       "30                                               None   None   \n",
       "\n",
       "                 date  Rank  \n",
       "0       June 17, 2016     1  \n",
       "1    January 12, 2017     2  \n",
       "2     October 8, 2016     3  \n",
       "3         May 2, 2018     4  \n",
       "4    January 30, 2017     5  \n",
       "5       April 6, 2015     6  \n",
       "6        May 24, 2018     7  \n",
       "7       March 6, 2014     8  \n",
       "8   November 19, 2014     9  \n",
       "9   February 27, 2018    10  \n",
       "10      July 15, 2012    11  \n",
       "11   January 31, 2012    12  \n",
       "12      April 5, 2018    13  \n",
       "13      June 16, 2009    14  \n",
       "14   January 14, 2015    15  \n",
       "15       May 31, 2013    16  \n",
       "16      June 25, 2018    17  \n",
       "17  September 5, 2013    18  \n",
       "18      June 14, 2018    19  \n",
       "19       June 4, 2010    20  \n",
       "20   October 22, 2015    21  \n",
       "21    October 7, 2014    22  \n",
       "22   January 26, 2018    23  \n",
       "23       May 10, 2011    24  \n",
       "24  February 20, 2014    25  \n",
       "25   November 9, 2017    26  \n",
       "26      July 25, 2012    27  \n",
       "27   December 3, 2015    28  \n",
       "28       May 31, 2018    29  \n",
       "29     March 22, 2015    30  \n",
       "30               None    31  "
      ]
     },
     "execution_count": 113,
     "metadata": {},
     "output_type": "execute_result"
    }
   ],
   "source": [
    "column_names=[\"video name\",\"artist\",\"views\",\"date\",\"XYZ\"]\n",
    "df=pd.DataFrame(tablerow[2:],columns=column_names)\n",
    "df['Rank']=df.index+1\n",
    "df.drop(\"XYZ\",axis=1,inplace=True)\n",
    "df"
   ]
  },
  {
   "cell_type": "code",
   "execution_count": null,
   "id": "12ffd15d",
   "metadata": {},
   "outputs": [],
   "source": []
  },
  {
   "cell_type": "code",
   "execution_count": null,
   "id": "580a9848",
   "metadata": {},
   "outputs": [],
   "source": []
  },
  {
   "cell_type": "code",
   "execution_count": null,
   "id": "2be6215b",
   "metadata": {},
   "outputs": [],
   "source": []
  },
  {
   "cell_type": "code",
   "execution_count": null,
   "id": "72c91212",
   "metadata": {},
   "outputs": [],
   "source": []
  },
  {
   "cell_type": "markdown",
   "id": "f7c763e7",
   "metadata": {},
   "source": [
    "# QUESTION NO 2 SCRAPPING DETAILS OF TEAM INDIA international fixtures from bcci.tv\n"
   ]
  },
  {
   "cell_type": "code",
   "execution_count": 47,
   "id": "0d9327dc",
   "metadata": {},
   "outputs": [],
   "source": [
    "driver=webdriver.Chrome()"
   ]
  },
  {
   "cell_type": "code",
   "execution_count": 48,
   "id": "1dc49206",
   "metadata": {},
   "outputs": [],
   "source": [
    "driver.get('https:www.bcci.tv/')"
   ]
  },
  {
   "cell_type": "code",
   "execution_count": 49,
   "id": "93650429",
   "metadata": {},
   "outputs": [],
   "source": [
    "fixtures=driver.find_element(By.XPATH,'/html/body/header/div[3]/div[2]/ul/div[1]/a[2]')\n",
    "fixtures.click()"
   ]
  },
  {
   "cell_type": "code",
   "execution_count": 50,
   "id": "df198e92",
   "metadata": {},
   "outputs": [
    {
     "name": "stdout",
     "output_type": "stream",
     "text": [
      "['ENGLAND TOUR OF INDIA 2023-24', 'ENGLAND TOUR OF INDIA 2023-24', 'INDIA TOUR OF ZIMBABWE 2024', 'INDIA TOUR OF ZIMBABWE 2024', 'INDIA TOUR OF ZIMBABWE 2024', 'INDIA TOUR OF ZIMBABWE 2024', 'INDIA TOUR OF ZIMBABWE 2024']\n"
     ]
    }
   ],
   "source": [
    "#scrapping the series from the given data\n",
    "series=[]\n",
    "series_tags=driver.find_elements(By.XPATH,'//h5[@class=\"match-tournament-name ng-binding\"]')\n",
    "for i in series_tags:\n",
    "    series_i=i.text\n",
    "    series.append(series_i)\n",
    "    \n",
    "    \n",
    "print(series)    "
   ]
  },
  {
   "cell_type": "code",
   "execution_count": 51,
   "id": "d3cbc1e4",
   "metadata": {},
   "outputs": [
    {
     "name": "stdout",
     "output_type": "stream",
     "text": [
      "['JSCA International Stadium Complex, Ranchi', 'Himachal Pradesh Cricket Association Stadium, Dharamsala', 'Harare Sports Club, Harare', 'Harare Sports Club, Harare', 'Harare Sports Club, Harare', 'Harare Sports Club, Harare', 'Harare Sports Club, Harare']\n"
     ]
    }
   ],
   "source": [
    "#scrapping the place from the given data\n",
    "place=[]\n",
    "place_tags=driver.find_elements(By.XPATH,'//div[@class=\"match-place ng-scope\"]')\n",
    "for i in place_tags:\n",
    "    place_i=i.text\n",
    "    place.append(place_i)\n",
    "    \n",
    "print(place)    "
   ]
  },
  {
   "cell_type": "code",
   "execution_count": 52,
   "id": "7e093daa",
   "metadata": {},
   "outputs": [
    {
     "name": "stdout",
     "output_type": "stream",
     "text": [
      "['23 FEBRUARY, 2024', '7 MARCH, 2024', '6 JULY, 2024', '7 JULY, 2024', '10 JULY, 2024', '13 JULY, 2024', '14 JULY, 2024']\n"
     ]
    }
   ],
   "source": [
    "#scrapping date from the given web page\n",
    "date=[]\n",
    "date_tags=driver.find_elements(By.XPATH,'//div[@class=\"match-dates ng-binding\"]')\n",
    "for i in date_tags:\n",
    "    date_i=i.text\n",
    "    date.append(date_i)\n",
    "    \n",
    "    \n",
    "print(date)    "
   ]
  },
  {
   "cell_type": "code",
   "execution_count": 53,
   "id": "6d9d230e",
   "metadata": {},
   "outputs": [
    {
     "name": "stdout",
     "output_type": "stream",
     "text": [
      "['9:30 AM IST', '9:30 AM IST', '8:00 PM IST', '8:00 PM IST', '8:00 PM IST', '8:00 PM IST', '8:00 PM IST']\n"
     ]
    }
   ],
   "source": [
    "#scrapping details of time from the given web page\n",
    "time=[]\n",
    "time_tags=driver.find_elements(By.XPATH,'//div[@class=\"match-time no-margin ng-binding\"]')\n",
    "for i in time_tags:\n",
    "    time_i=i.text\n",
    "    time.append(time_i)\n",
    "    \n",
    "    \n",
    "print(time)    "
   ]
  },
  {
   "cell_type": "code",
   "execution_count": null,
   "id": "6970291f",
   "metadata": {},
   "outputs": [],
   "source": []
  },
  {
   "cell_type": "code",
   "execution_count": null,
   "id": "4b719104",
   "metadata": {},
   "outputs": [],
   "source": []
  },
  {
   "cell_type": "code",
   "execution_count": null,
   "id": "d9012a02",
   "metadata": {},
   "outputs": [],
   "source": []
  },
  {
   "cell_type": "markdown",
   "id": "fdbd90cf",
   "metadata": {},
   "source": [
    "# QUESTION NO 3 SCRAPPING THE DETAILS OF STATE WISE GDP OF INDIA\n"
   ]
  },
  {
   "cell_type": "code",
   "execution_count": 171,
   "id": "8e6ac851",
   "metadata": {},
   "outputs": [],
   "source": [
    "driver=webdriver.Chrome()"
   ]
  },
  {
   "cell_type": "code",
   "execution_count": 172,
   "id": "38e39113",
   "metadata": {},
   "outputs": [],
   "source": [
    "driver.get(\"http://statisticstimes.com/\")"
   ]
  },
  {
   "cell_type": "code",
   "execution_count": 173,
   "id": "4295ba20",
   "metadata": {},
   "outputs": [],
   "source": [
    "eco=driver.find_element(By.XPATH,'//div[@class=\"dropdown\"][2]')\n",
    "eco.click()"
   ]
  },
  {
   "cell_type": "code",
   "execution_count": 174,
   "id": "f8f6cfe5",
   "metadata": {},
   "outputs": [],
   "source": [
    "india=driver.find_element(By.XPATH,'/html/body/div[2]/div[1]/div[2]/div[2]/div/a[3]')\n",
    "india.click()\n",
    "#/html/body/div[2]/div[1]/div[2]/div[2]/div/a[3]"
   ]
  },
  {
   "cell_type": "code",
   "execution_count": 176,
   "id": "00408d92",
   "metadata": {},
   "outputs": [],
   "source": [
    "gdp_indian_states=driver.find_element(By.XPATH,'/html/body/div[2]/div[2]/div[2]/ul/li[1]/a')\n",
    "gdp_indian_states.click()\n",
    "#/html/body/div[2]/div[2]/div[2]/ul/li[1]/a"
   ]
  },
  {
   "cell_type": "code",
   "execution_count": 180,
   "id": "50657c6f",
   "metadata": {},
   "outputs": [
    {
     "name": "stdout",
     "output_type": "stream",
     "text": [
      "[['1', 'Maharashtra', '-', '3,108,022', '13.24%', '417.163', '-', '2,027,971'], ['2', 'Tamil Nadu', '2,364,514', '2,071,286', '8.82%', '278.011', '1,453,321', '1,343,287'], ['3', 'Uttar Pradesh', '2,257,575', '1,974,532', '8.41%', '265.024', '1,304,678', '1,204,660'], ['4', 'Karnataka', '2,241,368', '1,962,725', '8.36%', '263.440', '1,326,319', '1,229,713'], ['5', 'Gujarat', '-', '1,937,066', '8.25%', '259.996', '-', '1,372,204'], ['6', 'West Bengal', '1,554,992', '1,363,926', '5.81%', '183.068', '854,023', '787,758'], ['7', 'Rajasthan', '1,413,620', '1,218,193', '5.19%', '163.507', '799,449', '738,922'], ['8', 'Madhya Pradesh', '1,322,821', '1,136,137', '4.84%', '152.494', '643,124', '600,689'], ['9', 'Andhra Pradesh', '1,317,728', '1,133,837', '4.83%', '152.185', '754,338', '704,889'], ['10', 'Telangana', '1,313,391', '1,128,907', '4.81%', '151.523', '726,707', '674,371'], ['11', 'Kerala', '-', '932,470', '3.97%', '125.157', '-', '572,747'], ['12', 'Delhi', '1,043,759', '904,642', '3.85%', '121.422', '652,649', '597,765'], ['13', 'Haryana', '994,154', '870,665', '3.71%', '116.862', '608,420', '568,086'], ['14', 'Odisha', '774,869', '670,881', '2.86%', '90.047', '463,859', '432,960'], ['15', 'Bihar', '751,396', '650,302', '2.77%', '87.284', '442,473', '399,930'], ['16', 'Punjab', '673,107', '614,227', '2.62%', '82.442', '461,539', '433,769'], ['17', 'Assam', '493,167', '412,612', '1.76%', '55.381', '289,192', '262,523'], ['18', 'Chhattisgarh', '457,608', '406,416', '1.73%', '54.550', '289,082', '267,681'], ['19', 'Jharkhand', '393,722', '358,863', '1.53%', '48.167', '259,800', '243,348'], ['20', 'Uttarakhand', '302,621', '272,159', '1.16%', '36.530', '207,104', '193,412'], ['21', 'Jammu & Kashmir-UT', '227,927', '199,917', '0.85%', '26.833', '134,716', '124,728'], ['22', 'Himachal Pradesh', '195,405', '176,269', '0.75%', '23.659', '134,576', '126,433'], ['23', 'Goa', '-', '82,604', '0.35%', '11.087', '-', '55,548'], ['24', 'Tripura', '72,636', '62,550', '0.27%', '8.396', '42,997', '39,487'], ['25', 'Chandigarh', '-', '45,635', '0.19%', '6.125', '-', '30,287'], ['26', 'Puducherry', '-', '44,238', '0.19%', '5.938', '-', '27,834'], ['27', 'Meghalaya', '42,697', '38,785', '0.17%', '5.206', '25,209', '24,267'], ['28', 'Sikkim', '42,756', '37,557', '0.16%', '5.041', '22,144', '20,728'], ['29', 'Manipur', '-', '36,594', '0.16%', '4.912', '-', '20,515'], ['30', 'Arunachal Pradesh', '-', '35,124', '0.15%', '4.714', '-', '19,801'], ['31', 'Nagaland', '-', '31,913', '0.14%', '4.283', '-', '18,363'], ['32', 'Mizoram', '-', '27,824', '0.12%', '3.735', '-', '18,494'], ['33', 'Andaman & Nicobar Islands', '-', '10,371', '0.04%', '1.392', '-', '7,172'], ['', 'India', '27,240,712', '23,471,012', '', '3,150', '16,006,425', '14,925,840']]\n"
     ]
    }
   ],
   "source": [
    "#scrapping details of the state\n",
    "table=driver.find_element(By.XPATH,'//table[@class=\"display dataTable\"]')\n",
    "rows=table.find_elements(By.TAG_NAME,'tr')\n",
    "tablerow=[]\n",
    "for row in rows[2:]:\n",
    "    columns=row.find_elements(By.TAG_NAME,'td')\n",
    "    row_data=[column.text for column in columns]\n",
    "    tablerow.append(row_data)\n",
    "    \n",
    "    \n",
    "print(tablerow)    "
   ]
  },
  {
   "cell_type": "code",
   "execution_count": 181,
   "id": "014cb2f4",
   "metadata": {},
   "outputs": [
    {
     "data": {
      "text/html": [
       "<div>\n",
       "<style scoped>\n",
       "    .dataframe tbody tr th:only-of-type {\n",
       "        vertical-align: middle;\n",
       "    }\n",
       "\n",
       "    .dataframe tbody tr th {\n",
       "        vertical-align: top;\n",
       "    }\n",
       "\n",
       "    .dataframe thead th {\n",
       "        text-align: right;\n",
       "    }\n",
       "</style>\n",
       "<table border=\"1\" class=\"dataframe\">\n",
       "  <thead>\n",
       "    <tr style=\"text-align: right;\">\n",
       "      <th></th>\n",
       "      <th>Rank</th>\n",
       "      <th>state</th>\n",
       "      <th>GSDP(22-23)</th>\n",
       "      <th>GSDP(21-22)</th>\n",
       "      <th>Share(21-22)</th>\n",
       "      <th>GDP($billion)</th>\n",
       "      <th>GSDP(Cr INR)</th>\n",
       "      <th>LMN</th>\n",
       "    </tr>\n",
       "  </thead>\n",
       "  <tbody>\n",
       "    <tr>\n",
       "      <th>0</th>\n",
       "      <td>1</td>\n",
       "      <td>Maharashtra</td>\n",
       "      <td>-</td>\n",
       "      <td>3,108,022</td>\n",
       "      <td>13.24%</td>\n",
       "      <td>417.163</td>\n",
       "      <td>-</td>\n",
       "      <td>2,027,971</td>\n",
       "    </tr>\n",
       "    <tr>\n",
       "      <th>1</th>\n",
       "      <td>2</td>\n",
       "      <td>Tamil Nadu</td>\n",
       "      <td>2,364,514</td>\n",
       "      <td>2,071,286</td>\n",
       "      <td>8.82%</td>\n",
       "      <td>278.011</td>\n",
       "      <td>1,453,321</td>\n",
       "      <td>1,343,287</td>\n",
       "    </tr>\n",
       "    <tr>\n",
       "      <th>2</th>\n",
       "      <td>3</td>\n",
       "      <td>Uttar Pradesh</td>\n",
       "      <td>2,257,575</td>\n",
       "      <td>1,974,532</td>\n",
       "      <td>8.41%</td>\n",
       "      <td>265.024</td>\n",
       "      <td>1,304,678</td>\n",
       "      <td>1,204,660</td>\n",
       "    </tr>\n",
       "    <tr>\n",
       "      <th>3</th>\n",
       "      <td>4</td>\n",
       "      <td>Karnataka</td>\n",
       "      <td>2,241,368</td>\n",
       "      <td>1,962,725</td>\n",
       "      <td>8.36%</td>\n",
       "      <td>263.440</td>\n",
       "      <td>1,326,319</td>\n",
       "      <td>1,229,713</td>\n",
       "    </tr>\n",
       "    <tr>\n",
       "      <th>4</th>\n",
       "      <td>5</td>\n",
       "      <td>Gujarat</td>\n",
       "      <td>-</td>\n",
       "      <td>1,937,066</td>\n",
       "      <td>8.25%</td>\n",
       "      <td>259.996</td>\n",
       "      <td>-</td>\n",
       "      <td>1,372,204</td>\n",
       "    </tr>\n",
       "    <tr>\n",
       "      <th>5</th>\n",
       "      <td>6</td>\n",
       "      <td>West Bengal</td>\n",
       "      <td>1,554,992</td>\n",
       "      <td>1,363,926</td>\n",
       "      <td>5.81%</td>\n",
       "      <td>183.068</td>\n",
       "      <td>854,023</td>\n",
       "      <td>787,758</td>\n",
       "    </tr>\n",
       "    <tr>\n",
       "      <th>6</th>\n",
       "      <td>7</td>\n",
       "      <td>Rajasthan</td>\n",
       "      <td>1,413,620</td>\n",
       "      <td>1,218,193</td>\n",
       "      <td>5.19%</td>\n",
       "      <td>163.507</td>\n",
       "      <td>799,449</td>\n",
       "      <td>738,922</td>\n",
       "    </tr>\n",
       "    <tr>\n",
       "      <th>7</th>\n",
       "      <td>8</td>\n",
       "      <td>Madhya Pradesh</td>\n",
       "      <td>1,322,821</td>\n",
       "      <td>1,136,137</td>\n",
       "      <td>4.84%</td>\n",
       "      <td>152.494</td>\n",
       "      <td>643,124</td>\n",
       "      <td>600,689</td>\n",
       "    </tr>\n",
       "    <tr>\n",
       "      <th>8</th>\n",
       "      <td>9</td>\n",
       "      <td>Andhra Pradesh</td>\n",
       "      <td>1,317,728</td>\n",
       "      <td>1,133,837</td>\n",
       "      <td>4.83%</td>\n",
       "      <td>152.185</td>\n",
       "      <td>754,338</td>\n",
       "      <td>704,889</td>\n",
       "    </tr>\n",
       "    <tr>\n",
       "      <th>9</th>\n",
       "      <td>10</td>\n",
       "      <td>Telangana</td>\n",
       "      <td>1,313,391</td>\n",
       "      <td>1,128,907</td>\n",
       "      <td>4.81%</td>\n",
       "      <td>151.523</td>\n",
       "      <td>726,707</td>\n",
       "      <td>674,371</td>\n",
       "    </tr>\n",
       "    <tr>\n",
       "      <th>10</th>\n",
       "      <td>11</td>\n",
       "      <td>Kerala</td>\n",
       "      <td>-</td>\n",
       "      <td>932,470</td>\n",
       "      <td>3.97%</td>\n",
       "      <td>125.157</td>\n",
       "      <td>-</td>\n",
       "      <td>572,747</td>\n",
       "    </tr>\n",
       "    <tr>\n",
       "      <th>11</th>\n",
       "      <td>12</td>\n",
       "      <td>Delhi</td>\n",
       "      <td>1,043,759</td>\n",
       "      <td>904,642</td>\n",
       "      <td>3.85%</td>\n",
       "      <td>121.422</td>\n",
       "      <td>652,649</td>\n",
       "      <td>597,765</td>\n",
       "    </tr>\n",
       "    <tr>\n",
       "      <th>12</th>\n",
       "      <td>13</td>\n",
       "      <td>Haryana</td>\n",
       "      <td>994,154</td>\n",
       "      <td>870,665</td>\n",
       "      <td>3.71%</td>\n",
       "      <td>116.862</td>\n",
       "      <td>608,420</td>\n",
       "      <td>568,086</td>\n",
       "    </tr>\n",
       "    <tr>\n",
       "      <th>13</th>\n",
       "      <td>14</td>\n",
       "      <td>Odisha</td>\n",
       "      <td>774,869</td>\n",
       "      <td>670,881</td>\n",
       "      <td>2.86%</td>\n",
       "      <td>90.047</td>\n",
       "      <td>463,859</td>\n",
       "      <td>432,960</td>\n",
       "    </tr>\n",
       "    <tr>\n",
       "      <th>14</th>\n",
       "      <td>15</td>\n",
       "      <td>Bihar</td>\n",
       "      <td>751,396</td>\n",
       "      <td>650,302</td>\n",
       "      <td>2.77%</td>\n",
       "      <td>87.284</td>\n",
       "      <td>442,473</td>\n",
       "      <td>399,930</td>\n",
       "    </tr>\n",
       "    <tr>\n",
       "      <th>15</th>\n",
       "      <td>16</td>\n",
       "      <td>Punjab</td>\n",
       "      <td>673,107</td>\n",
       "      <td>614,227</td>\n",
       "      <td>2.62%</td>\n",
       "      <td>82.442</td>\n",
       "      <td>461,539</td>\n",
       "      <td>433,769</td>\n",
       "    </tr>\n",
       "    <tr>\n",
       "      <th>16</th>\n",
       "      <td>17</td>\n",
       "      <td>Assam</td>\n",
       "      <td>493,167</td>\n",
       "      <td>412,612</td>\n",
       "      <td>1.76%</td>\n",
       "      <td>55.381</td>\n",
       "      <td>289,192</td>\n",
       "      <td>262,523</td>\n",
       "    </tr>\n",
       "    <tr>\n",
       "      <th>17</th>\n",
       "      <td>18</td>\n",
       "      <td>Chhattisgarh</td>\n",
       "      <td>457,608</td>\n",
       "      <td>406,416</td>\n",
       "      <td>1.73%</td>\n",
       "      <td>54.550</td>\n",
       "      <td>289,082</td>\n",
       "      <td>267,681</td>\n",
       "    </tr>\n",
       "    <tr>\n",
       "      <th>18</th>\n",
       "      <td>19</td>\n",
       "      <td>Jharkhand</td>\n",
       "      <td>393,722</td>\n",
       "      <td>358,863</td>\n",
       "      <td>1.53%</td>\n",
       "      <td>48.167</td>\n",
       "      <td>259,800</td>\n",
       "      <td>243,348</td>\n",
       "    </tr>\n",
       "    <tr>\n",
       "      <th>19</th>\n",
       "      <td>20</td>\n",
       "      <td>Uttarakhand</td>\n",
       "      <td>302,621</td>\n",
       "      <td>272,159</td>\n",
       "      <td>1.16%</td>\n",
       "      <td>36.530</td>\n",
       "      <td>207,104</td>\n",
       "      <td>193,412</td>\n",
       "    </tr>\n",
       "    <tr>\n",
       "      <th>20</th>\n",
       "      <td>21</td>\n",
       "      <td>Jammu &amp; Kashmir-UT</td>\n",
       "      <td>227,927</td>\n",
       "      <td>199,917</td>\n",
       "      <td>0.85%</td>\n",
       "      <td>26.833</td>\n",
       "      <td>134,716</td>\n",
       "      <td>124,728</td>\n",
       "    </tr>\n",
       "    <tr>\n",
       "      <th>21</th>\n",
       "      <td>22</td>\n",
       "      <td>Himachal Pradesh</td>\n",
       "      <td>195,405</td>\n",
       "      <td>176,269</td>\n",
       "      <td>0.75%</td>\n",
       "      <td>23.659</td>\n",
       "      <td>134,576</td>\n",
       "      <td>126,433</td>\n",
       "    </tr>\n",
       "    <tr>\n",
       "      <th>22</th>\n",
       "      <td>23</td>\n",
       "      <td>Goa</td>\n",
       "      <td>-</td>\n",
       "      <td>82,604</td>\n",
       "      <td>0.35%</td>\n",
       "      <td>11.087</td>\n",
       "      <td>-</td>\n",
       "      <td>55,548</td>\n",
       "    </tr>\n",
       "    <tr>\n",
       "      <th>23</th>\n",
       "      <td>24</td>\n",
       "      <td>Tripura</td>\n",
       "      <td>72,636</td>\n",
       "      <td>62,550</td>\n",
       "      <td>0.27%</td>\n",
       "      <td>8.396</td>\n",
       "      <td>42,997</td>\n",
       "      <td>39,487</td>\n",
       "    </tr>\n",
       "    <tr>\n",
       "      <th>24</th>\n",
       "      <td>25</td>\n",
       "      <td>Chandigarh</td>\n",
       "      <td>-</td>\n",
       "      <td>45,635</td>\n",
       "      <td>0.19%</td>\n",
       "      <td>6.125</td>\n",
       "      <td>-</td>\n",
       "      <td>30,287</td>\n",
       "    </tr>\n",
       "    <tr>\n",
       "      <th>25</th>\n",
       "      <td>26</td>\n",
       "      <td>Puducherry</td>\n",
       "      <td>-</td>\n",
       "      <td>44,238</td>\n",
       "      <td>0.19%</td>\n",
       "      <td>5.938</td>\n",
       "      <td>-</td>\n",
       "      <td>27,834</td>\n",
       "    </tr>\n",
       "    <tr>\n",
       "      <th>26</th>\n",
       "      <td>27</td>\n",
       "      <td>Meghalaya</td>\n",
       "      <td>42,697</td>\n",
       "      <td>38,785</td>\n",
       "      <td>0.17%</td>\n",
       "      <td>5.206</td>\n",
       "      <td>25,209</td>\n",
       "      <td>24,267</td>\n",
       "    </tr>\n",
       "    <tr>\n",
       "      <th>27</th>\n",
       "      <td>28</td>\n",
       "      <td>Sikkim</td>\n",
       "      <td>42,756</td>\n",
       "      <td>37,557</td>\n",
       "      <td>0.16%</td>\n",
       "      <td>5.041</td>\n",
       "      <td>22,144</td>\n",
       "      <td>20,728</td>\n",
       "    </tr>\n",
       "    <tr>\n",
       "      <th>28</th>\n",
       "      <td>29</td>\n",
       "      <td>Manipur</td>\n",
       "      <td>-</td>\n",
       "      <td>36,594</td>\n",
       "      <td>0.16%</td>\n",
       "      <td>4.912</td>\n",
       "      <td>-</td>\n",
       "      <td>20,515</td>\n",
       "    </tr>\n",
       "    <tr>\n",
       "      <th>29</th>\n",
       "      <td>30</td>\n",
       "      <td>Arunachal Pradesh</td>\n",
       "      <td>-</td>\n",
       "      <td>35,124</td>\n",
       "      <td>0.15%</td>\n",
       "      <td>4.714</td>\n",
       "      <td>-</td>\n",
       "      <td>19,801</td>\n",
       "    </tr>\n",
       "    <tr>\n",
       "      <th>30</th>\n",
       "      <td>31</td>\n",
       "      <td>Nagaland</td>\n",
       "      <td>-</td>\n",
       "      <td>31,913</td>\n",
       "      <td>0.14%</td>\n",
       "      <td>4.283</td>\n",
       "      <td>-</td>\n",
       "      <td>18,363</td>\n",
       "    </tr>\n",
       "    <tr>\n",
       "      <th>31</th>\n",
       "      <td>32</td>\n",
       "      <td>Mizoram</td>\n",
       "      <td>-</td>\n",
       "      <td>27,824</td>\n",
       "      <td>0.12%</td>\n",
       "      <td>3.735</td>\n",
       "      <td>-</td>\n",
       "      <td>18,494</td>\n",
       "    </tr>\n",
       "    <tr>\n",
       "      <th>32</th>\n",
       "      <td>33</td>\n",
       "      <td>Andaman &amp; Nicobar Islands</td>\n",
       "      <td>-</td>\n",
       "      <td>10,371</td>\n",
       "      <td>0.04%</td>\n",
       "      <td>1.392</td>\n",
       "      <td>-</td>\n",
       "      <td>7,172</td>\n",
       "    </tr>\n",
       "    <tr>\n",
       "      <th>33</th>\n",
       "      <td></td>\n",
       "      <td>India</td>\n",
       "      <td>27,240,712</td>\n",
       "      <td>23,471,012</td>\n",
       "      <td></td>\n",
       "      <td>3,150</td>\n",
       "      <td>16,006,425</td>\n",
       "      <td>14,925,840</td>\n",
       "    </tr>\n",
       "  </tbody>\n",
       "</table>\n",
       "</div>"
      ],
      "text/plain": [
       "   Rank                      state GSDP(22-23) GSDP(21-22) Share(21-22)  \\\n",
       "0     1                Maharashtra           -   3,108,022       13.24%   \n",
       "1     2                 Tamil Nadu   2,364,514   2,071,286        8.82%   \n",
       "2     3              Uttar Pradesh   2,257,575   1,974,532        8.41%   \n",
       "3     4                  Karnataka   2,241,368   1,962,725        8.36%   \n",
       "4     5                    Gujarat           -   1,937,066        8.25%   \n",
       "5     6                West Bengal   1,554,992   1,363,926        5.81%   \n",
       "6     7                  Rajasthan   1,413,620   1,218,193        5.19%   \n",
       "7     8             Madhya Pradesh   1,322,821   1,136,137        4.84%   \n",
       "8     9             Andhra Pradesh   1,317,728   1,133,837        4.83%   \n",
       "9    10                  Telangana   1,313,391   1,128,907        4.81%   \n",
       "10   11                     Kerala           -     932,470        3.97%   \n",
       "11   12                      Delhi   1,043,759     904,642        3.85%   \n",
       "12   13                    Haryana     994,154     870,665        3.71%   \n",
       "13   14                     Odisha     774,869     670,881        2.86%   \n",
       "14   15                      Bihar     751,396     650,302        2.77%   \n",
       "15   16                     Punjab     673,107     614,227        2.62%   \n",
       "16   17                      Assam     493,167     412,612        1.76%   \n",
       "17   18               Chhattisgarh     457,608     406,416        1.73%   \n",
       "18   19                  Jharkhand     393,722     358,863        1.53%   \n",
       "19   20                Uttarakhand     302,621     272,159        1.16%   \n",
       "20   21         Jammu & Kashmir-UT     227,927     199,917        0.85%   \n",
       "21   22           Himachal Pradesh     195,405     176,269        0.75%   \n",
       "22   23                        Goa           -      82,604        0.35%   \n",
       "23   24                    Tripura      72,636      62,550        0.27%   \n",
       "24   25                 Chandigarh           -      45,635        0.19%   \n",
       "25   26                 Puducherry           -      44,238        0.19%   \n",
       "26   27                  Meghalaya      42,697      38,785        0.17%   \n",
       "27   28                     Sikkim      42,756      37,557        0.16%   \n",
       "28   29                    Manipur           -      36,594        0.16%   \n",
       "29   30          Arunachal Pradesh           -      35,124        0.15%   \n",
       "30   31                   Nagaland           -      31,913        0.14%   \n",
       "31   32                    Mizoram           -      27,824        0.12%   \n",
       "32   33  Andaman & Nicobar Islands           -      10,371        0.04%   \n",
       "33                           India  27,240,712  23,471,012                \n",
       "\n",
       "   GDP($billion) GSDP(Cr INR)         LMN  \n",
       "0        417.163            -   2,027,971  \n",
       "1        278.011    1,453,321   1,343,287  \n",
       "2        265.024    1,304,678   1,204,660  \n",
       "3        263.440    1,326,319   1,229,713  \n",
       "4        259.996            -   1,372,204  \n",
       "5        183.068      854,023     787,758  \n",
       "6        163.507      799,449     738,922  \n",
       "7        152.494      643,124     600,689  \n",
       "8        152.185      754,338     704,889  \n",
       "9        151.523      726,707     674,371  \n",
       "10       125.157            -     572,747  \n",
       "11       121.422      652,649     597,765  \n",
       "12       116.862      608,420     568,086  \n",
       "13        90.047      463,859     432,960  \n",
       "14        87.284      442,473     399,930  \n",
       "15        82.442      461,539     433,769  \n",
       "16        55.381      289,192     262,523  \n",
       "17        54.550      289,082     267,681  \n",
       "18        48.167      259,800     243,348  \n",
       "19        36.530      207,104     193,412  \n",
       "20        26.833      134,716     124,728  \n",
       "21        23.659      134,576     126,433  \n",
       "22        11.087            -      55,548  \n",
       "23         8.396       42,997      39,487  \n",
       "24         6.125            -      30,287  \n",
       "25         5.938            -      27,834  \n",
       "26         5.206       25,209      24,267  \n",
       "27         5.041       22,144      20,728  \n",
       "28         4.912            -      20,515  \n",
       "29         4.714            -      19,801  \n",
       "30         4.283            -      18,363  \n",
       "31         3.735            -      18,494  \n",
       "32         1.392            -       7,172  \n",
       "33         3,150   16,006,425  14,925,840  "
      ]
     },
     "execution_count": 181,
     "metadata": {},
     "output_type": "execute_result"
    }
   ],
   "source": [
    "column_names=[\"Rank\",\"state\",\"GSDP(22-23)\",\"GSDP(21-22)\",\"Share(21-22)\",\"GDP($billion)\",\"GSDP(Cr INR)\",\"LMN\"]\n",
    "df=pd.DataFrame(tablerow,columns=column_names)\n",
    "df"
   ]
  },
  {
   "cell_type": "code",
   "execution_count": null,
   "id": "6e15153c",
   "metadata": {},
   "outputs": [],
   "source": []
  },
  {
   "cell_type": "code",
   "execution_count": null,
   "id": "48d52f9e",
   "metadata": {},
   "outputs": [],
   "source": []
  },
  {
   "cell_type": "code",
   "execution_count": null,
   "id": "dba1deea",
   "metadata": {},
   "outputs": [],
   "source": []
  },
  {
   "cell_type": "markdown",
   "id": "5541f5a6",
   "metadata": {},
   "source": [
    "# QUESTION NO 4 SCRAPPING DETAILS OF TRENDING REPOSITORIES ON GITHUB"
   ]
  },
  {
   "cell_type": "code",
   "execution_count": 156,
   "id": "4471556b",
   "metadata": {},
   "outputs": [],
   "source": [
    "driver=webdriver.Chrome()"
   ]
  },
  {
   "cell_type": "code",
   "execution_count": 157,
   "id": "92146156",
   "metadata": {},
   "outputs": [],
   "source": [
    "driver.get(\"https://github.com/\")"
   ]
  },
  {
   "cell_type": "code",
   "execution_count": 158,
   "id": "f0683ea9",
   "metadata": {},
   "outputs": [],
   "source": [
    "search_cl=driver.find_element(By.XPATH,'/html/body/div[1]/div[1]/header/div/div[2]/div/div/qbsearch-input/div[1]/button/span')\n",
    "search_cl.click()"
   ]
  },
  {
   "cell_type": "code",
   "execution_count": 159,
   "id": "907a04b2",
   "metadata": {},
   "outputs": [],
   "source": [
    "search=driver.find_element(By.XPATH,'/html/body/div[1]/div[1]/header/div/div[2]/div/div/qbsearch-input/div[1]/div/modal-dialog/div/div/div/form/query-builder/div[1]/div[1]/div/div[2]/input')\n",
    "search.send_keys('Trending Repository')"
   ]
  },
  {
   "cell_type": "code",
   "execution_count": 160,
   "id": "f77ba482",
   "metadata": {},
   "outputs": [],
   "source": [
    "trending_repository=driver.find_element(By.XPATH,'/html/body/div[1]/div[1]/header/div/div[2]/div/div/qbsearch-input/div[1]/div/modal-dialog/div/div/div/form/query-builder/div[1]/div[1]/div/div[2]/input')\n",
    "trending_repository.click()"
   ]
  },
  {
   "cell_type": "code",
   "execution_count": 162,
   "id": "10b7b2b7",
   "metadata": {},
   "outputs": [
    {
     "name": "stdout",
     "output_type": "stream",
     "text": [
      "['QasimWani/LeetHub', 'laowch/GithubTrends', 'vitalets/github-trending-repos', 'mbadry1/Trending-Deep-Learning', 'zhuowenli/githuber', 'ophobe/trending', 'karlrupp/microprocessor-trend-data', 'andygrunwald/go-trending', 'rochefort/git-trend', 'benbjohnson/scuttlebutt']\n"
     ]
    }
   ],
   "source": [
    "#scrapping the value of repository title from the given page\n",
    "title=[]\n",
    "title_tags=driver.find_elements(By.XPATH,'//span[@class=\"Text-sc-17v1xeu-0 qaOIC search-match\"]')\n",
    "for i in title_tags:\n",
    "    title_i=i.text\n",
    "    title.append(title_i)\n",
    "    \n",
    "print(title)    "
   ]
  },
  {
   "cell_type": "code",
   "execution_count": 163,
   "id": "527268e1",
   "metadata": {},
   "outputs": [
    {
     "name": "stdout",
     "output_type": "stream",
     "text": [
      "['Automatically sync your leetcode solutions to your github account - top 5 trending GitHub repository', \"It's a GitHub Trending repositories Viewer with Material Design.\", 'Track GitHub trending repositories in your favorite programming language by native GitHub notifications!', 'Top 100 trending deep learning repositories sorted by the number of stars gained on a specific day.', 'Display Github Trending repositories on Chrome New Tab Extensions', 'Dataset of trending repositories on GitHub', 'Data repository for my blog series on microprocessor trend data.', 'Go library for accessing trending repositories and developers at Github.', 'fetch Trending repository on github', 'A daemon for tracking and tweeting trending Github repositories by language.']\n"
     ]
    }
   ],
   "source": [
    "#scrapping the value of repository description from the given page\n",
    "description=[]\n",
    "description_tags=driver.find_elements(By.XPATH,'//span[@class=\"Text-sc-17v1xeu-0 kWPXhV search-match\"]')\n",
    "for i in description_tags:\n",
    "    description_i=i.text\n",
    "    description.append(description_i)\n",
    "    \n",
    "print(description)    "
   ]
  },
  {
   "cell_type": "code",
   "execution_count": 165,
   "id": "0f81988b",
   "metadata": {},
   "outputs": [
    {
     "name": "stdout",
     "output_type": "stream",
     "text": [
      "['JavaScript', 'Updated 4 days ago', 'Java', 'Updated on Jun 10, 2019', 'HTML', 'Updated 19 days ago', 'Python', 'Updated on Feb 2, 2020', 'JavaScript', 'Updated on Jul 11, 2023', 'Updated on Aug 16, 2020', 'Gnuplot', 'Updated on Feb 22, 2022', 'Go', 'Updated on Jan 1', 'Ruby', 'Updated 15 days ago', 'Go', 'Updated on Jan 11, 2018']\n"
     ]
    }
   ],
   "source": [
    "#scrapping the details of language used\n",
    "language=[]\n",
    "language_tags=driver.find_elements(By.XPATH,'//ul[@class=\"Box-sc-g0xbh4-0 DUrqY\"]/li/span')\n",
    "for i in language_tags:\n",
    "    language_i=i.text\n",
    "    language.append(language_i)\n",
    "    \n",
    "    \n",
    "print(language)    "
   ]
  },
  {
   "cell_type": "code",
   "execution_count": 166,
   "id": "93b9c3c5",
   "metadata": {},
   "outputs": [
    {
     "name": "stdout",
     "output_type": "stream",
     "text": [
      "['3.7k', '651', '2.6k', '616', '478', '60', '465', '139', '65', '150']\n"
     ]
    }
   ],
   "source": [
    "#scrapping the details of contributors count\n",
    "count=[]\n",
    "count_tags=driver.find_elements(By.XPATH,'//a[@class=\"Link__StyledLink-sc-14289xe-0 bzaAZD\"]')\n",
    "for i in count_tags:\n",
    "    count_i=i.text\n",
    "    count.append(count_i)\n",
    "    \n",
    "print(count)    "
   ]
  },
  {
   "cell_type": "code",
   "execution_count": 182,
   "id": "c0dd57b7",
   "metadata": {},
   "outputs": [],
   "source": [
    "driver.close()"
   ]
  },
  {
   "cell_type": "code",
   "execution_count": null,
   "id": "8d40b07c",
   "metadata": {},
   "outputs": [],
   "source": []
  },
  {
   "cell_type": "code",
   "execution_count": null,
   "id": "67173747",
   "metadata": {},
   "outputs": [],
   "source": []
  },
  {
   "cell_type": "markdown",
   "id": "39cdb150",
   "metadata": {},
   "source": [
    "# QUESTION N0 5 DETAILS OF TOP100 SONGS ON BILLIBOARD.COM"
   ]
  },
  {
   "cell_type": "code",
   "execution_count": 183,
   "id": "0fddeb3e",
   "metadata": {},
   "outputs": [],
   "source": [
    " driver=webdriver.Chrome()"
   ]
  },
  {
   "cell_type": "code",
   "execution_count": 184,
   "id": "9149a19f",
   "metadata": {},
   "outputs": [],
   "source": [
    "driver.get(\"https:/www.billboard.com/\")"
   ]
  },
  {
   "cell_type": "code",
   "execution_count": 185,
   "id": "0badde63",
   "metadata": {},
   "outputs": [],
   "source": [
    "search=driver.find_element(By.XPATH,'/html/body/div[3]/header/div/div[4]/div/div[1]/div[1]/button')\n",
    "search.click()"
   ]
  },
  {
   "cell_type": "code",
   "execution_count": 186,
   "id": "f345a4ae",
   "metadata": {},
   "outputs": [],
   "source": [
    "chart=driver.find_element(By.XPATH,'/html/body/div[3]/div[9]/div/div/div/ul/li[1]/h3')\n",
    "chart.click()\n"
   ]
  },
  {
   "cell_type": "code",
   "execution_count": 188,
   "id": "fe64d94f",
   "metadata": {},
   "outputs": [],
   "source": [
    "hot_100=driver.find_element(By.XPATH,'/html/body/div[3]/main/div[2]/div[3]/div/div/div[2]/div/div[1]/a/span/span')\n",
    "hot_100.click()"
   ]
  },
  {
   "cell_type": "code",
   "execution_count": 81,
   "id": "1a08d42d",
   "metadata": {},
   "outputs": [
    {
     "name": "stdout",
     "output_type": "stream",
     "text": [
      "[\"Texas Hold 'Em\", 'Carnival', 'Beautiful Things', 'Lose Control', 'Cruel Summer', 'Snooze', 'I Remember Everything', 'Greedy', 'Stick Season', 'Fast Car', 'Agora Hills', 'Water', 'Last Night', 'Redrum', \"Thinkin' Bout Me\", 'Flowers', \"Is It Over Now? (Taylor's Version) [From The Vault]\", 'Paint The Town Red', 'Yeah!', 'Never Lose Me', 'La Diabla', 'Fuk Sumn', 'Pretty Little Poison', 'Houdini', 'Back To Me', 'What Was I Made For?', 'Forever', 'Where The Wild Things Are', 'Talking', 'Yes, And?', 'Made For Me', 'Burn', 'Vultures', 'The Painter', 'Good Good', 'Selfish', '16 Carriages', 'Stars', 'Everybody', 'Rich Baby Daddy', 'Feather', 'Vampire', 'On My Mama', 'Wild Ones', 'Dance The Night', 'Save Me', 'Hiss', 'Exes', 'Need A Favor', 'Truck Bed', 'Do It', 'Paid', 'Surround Sound', 'Keys To My Life', 'World On Fire', 'First Person Shooter', 'La Victima', 'Get In With Me', 'Burn It Down', 'Standing Next To You', 'Think U The Shit (Fart)', 'Praise Jah In The Moonlight', 'Paperwork', 'Beg Forgiveness', 'Man Made A Bar', 'Hoodrat', 'One Call', 'Igual Que Un Angel', 'Spin You Around (1/24)', 'FTCU', 'One Of The Girls', 'Murder On The Dancefloor', 'You Broke My Heart', 'Northern Attitude', 'FE!N', '23', 'Bandit', 'Problematic', 'Nee-nah', 'Act II: Date @ 8', 'I Can Feel It', \"Mamaw's House\", 'Soak City', 'Harley Quinn', \"You're Gonna Go Far\", 'Bellakeo', 'IDGAF', 'Yeah Glo!', \"Different 'Round Here\", 'She Calls Me Back', \"We Don't Fight Anymore\", \"Good (Don't Die)\", 'King', 'Coal', 'Mmhmm', 'Monaco', 'Prove It', 'Perro Negro', 'Sunday Service']\n"
     ]
    }
   ],
   "source": [
    "#scrapping details of song name of top 100 songs\n",
    "name=[]\n",
    "name_tags=driver.find_elements(By.XPATH,'//h3[@class=\"c-title  a-no-trucate a-font-primary-bold-s u-letter-spacing-0021 lrv-u-font-size-18@tablet lrv-u-font-size-16 u-line-height-125 u-line-height-normal@mobile-max a-truncate-ellipsis u-max-width-330 u-max-width-230@tablet-only\"]')\n",
    "\n",
    "for i in name_tags:\n",
    "    name_i=i.text\n",
    "    name.append(name_i)\n",
    "    \n",
    "    \n",
    "print(name)    "
   ]
  },
  {
   "cell_type": "code",
   "execution_count": 195,
   "id": "62cf7cec",
   "metadata": {},
   "outputs": [
    {
     "name": "stdout",
     "output_type": "stream",
     "text": [
      "['1', '-', '-', '3', '2', '4', '5', '6', '7', '11', '8', '9', '12', '15', '14', '16', '10', '18', '17', '-', '19', '25', '-', '24', '22', '-', '20', '-', '26', '-', '21', '28', '-', '-', '30', '45', '23', '-', '-', '27', '32', '36', '29', '33', '35', '37', '40', '13', '34', '39', '46', '-', '-', '48', '-', '44', '47', '56', '68', '55', '81', '52', '60', '-', '-', '63', '-', '64', '53', '51', '54', '57', '59', '65', '97', '69', '74', '38', '-', '58', '61', '73', '78', '76', '67', '-', '70', '72', '-', '66', '-', '79', '-', '-', '86', '83', '77', '75', '82', '-']\n"
     ]
    }
   ],
   "source": [
    "#scrapping details of last week rank\n",
    "last_week_rank=[]\n",
    "last_rank_tags=driver.find_elements(By.XPATH,'//li[@class=\"o-chart-results-list__item // a-chart-color u-width-72 u-width-55@mobile-max u-width-55@tablet-only lrv-u-flex lrv-u-flex-shrink-0 lrv-u-align-items-center lrv-u-justify-content-center lrv-u-border-b-1 u-border-b-0@mobile-max lrv-u-border-color-grey-light u-background-color-white-064@mobile-max lrv-u-flex-grow-1\"]/span')\n",
    "\n",
    "for i in last_rank_tags[::2]:\n",
    "    last_rank_i=i.text\n",
    "    last_week_rank.append(last_rank_i)\n",
    "    \n",
    "    \n",
    "print(last_week_rank) \n"
   ]
  },
  {
   "cell_type": "code",
   "execution_count": 196,
   "id": "c1a98cfc",
   "metadata": {},
   "outputs": [
    {
     "data": {
      "text/plain": [
       "100"
      ]
     },
     "execution_count": 196,
     "metadata": {},
     "output_type": "execute_result"
    }
   ],
   "source": [
    "len(last_week_rank)"
   ]
  },
  {
   "cell_type": "code",
   "execution_count": 82,
   "id": "2ac03765",
   "metadata": {},
   "outputs": [
    {
     "name": "stdout",
     "output_type": "stream",
     "text": [
      "['Beyonce', '¥$: Kanye West & Ty Dolla $ign', 'Benson Boone', 'Teddy Swims', 'Taylor Swift', 'SZA', 'Zach Bryan Featuring Kacey Musgraves', 'Tate McRae', 'Noah Kahan', 'Luke Combs', 'Doja Cat', 'Tyla', 'Morgan Wallen', '21 Savage', 'Morgan Wallen', 'Miley Cyrus', 'Taylor Swift', 'Doja Cat', 'Usher Featuring Lil Jon & Ludacris', 'Flo Milli', 'Xavi', '¥$: Kanye West & Ty Dolla $ign', 'Warren Zeiders', 'Dua Lipa', '¥$: Kanye West & Ty Dolla $ign', 'Billie Eilish', 'Noah Kahan', 'Luke Combs', '¥$: Kanye West & Ty Dolla $ign Featuring North West', 'Ariana Grande', 'Muni Long', '¥$: Kanye West & Ty Dolla $ign', '¥$: Kanye West & Ty Dolla $ign Featuring Lil Durk & Bump J', 'Cody Johnson', 'Usher, Summer Walker & 21 Savage', 'Justin Timberlake', 'Beyonce', '¥$: Kanye West & Ty Dolla $ign', 'Nicki Minaj Featuring Lil Uzi Vert', 'Drake Featuring Sexyy Red & SZA', 'Sabrina Carpenter', 'Olivia Rodrigo', 'Victoria Monet', 'Jessie Murph & Jelly Roll', 'Dua Lipa', 'Jelly Roll With Lainey Wilson', 'Megan Thee Stallion', 'Tate McRae', 'Jelly Roll', 'HARDY', '¥$: Kanye West & Ty Dolla $ign', '¥$: Kanye West & Ty Dolla $ign', 'JID Featuring 21 Savage & Baby Tate', '¥$: Kanye West & Ty Dolla $ign', 'Nate Smith', 'Drake Featuring J. Cole', 'Xavi', 'BossMan Dlow', 'Parker McCollum', 'Jung Kook', 'Ice Spice', 'YG Marley', '¥$: Kanye West & Ty Dolla $ign', '¥$: Kanye West & Ty Dolla $ign', 'Morgan Wallen Featuring Eric Church', '¥$: Kanye West & Ty Dolla $ign', 'Rich Amiri', 'Kali Uchis & Peso Pluma', 'Morgan Wallen', 'Nicki Minaj', 'The Weeknd, Jennie & Lily Rose Depp', 'Sophie Ellis-Bextor', 'Drake', 'Noah Kahan With Hozier', 'Travis Scott Featuring Playboi Carti', 'Chayce Beckham', 'Don Toliver', '¥$: Kanye West & Ty Dolla $ign', '21 Savage, Travis Scott & Metro Boomin', '4Batz', 'Kane Brown', 'Thomas Rhett Featuring Morgan Wallen', '310babii', 'Fuerza Regida & Marshmello', 'Noah Kahan', 'Peso Pluma & Anitta', 'Drake Featuring Yeat', 'GloRilla', 'Riley Green Featuring Luke Combs', 'Noah Kahan With Kacey Musgraves', 'Carly Pearce Featuring Chris Stapleton', '¥$: Kanye West & Ty Dolla $ign', '¥$: Kanye West & Ty Dolla $ign', 'Dylan Gossett', 'BigXthaPlug', 'Bad Bunny', '21 Savage & Summer Walker', 'Bad Bunny & Feid', 'Latto']\n"
     ]
    }
   ],
   "source": [
    "#scrapping the details of artist name\n",
    "artist=[]\n",
    "artist_tags=driver.find_elements(By.XPATH,'//span[@class=\"c-label  a-no-trucate a-font-primary-s lrv-u-font-size-14@mobile-max u-line-height-normal@mobile-max u-letter-spacing-0021 lrv-u-display-block a-truncate-ellipsis-2line u-max-width-330 u-max-width-230@tablet-only\"]')\n",
    "for i in artist_tags:\n",
    "    artist_i=i.text\n",
    "    artist.append(artist_i)\n",
    "    \n",
    "    \n",
    "print(artist)    "
   ]
  },
  {
   "cell_type": "code",
   "execution_count": 202,
   "id": "25f0297b",
   "metadata": {},
   "outputs": [
    {
     "name": "stdout",
     "output_type": "stream",
     "text": [
      "['14', '1', '1', '4', '27', '41', '61', '25', '22', '20', '47', '21', '20', '55', '5', '50', '52', '', '28', '46', '9', '9', '1', '23', '14', '1', '30', '1', '13', '1', '5', '5', '1', '1', '19', '27', '3', '1', '1', '10', '19', '11', '30', '22', '19', '33', '32', '3', '13', '44', '35', '1', '1', '14', '1', '16', '19', '9', '2', '17', '15', '3', '3', '1', '1', '21', '1', '3', '5', '3', '10', '8', '7', '13', '11', '16', '7', '2', '1', '5', '6', '7', '7', '9', '15', '1', '9', '19', '1', '11', '2', '9', '1', '1', '6', '8', '18', '5', '15', '1']\n"
     ]
    }
   ],
   "source": [
    "weeks_on_board=[]\n",
    "week_tags=driver.find_elements(By.XPATH,'//li[@class=\"o-chart-results-list__item // a-chart-color u-width-72 u-width-55@mobile-max u-width-55@tablet-only lrv-u-flex lrv-u-flex-shrink-0 lrv-u-align-items-center lrv-u-justify-content-center lrv-u-border-b-1 u-border-b-0@mobile-max lrv-u-border-color-grey-light u-background-color-white-064@mobile-max lrv-u-flex-grow-1\"]/span')\n",
    "for i in week_tags[1::2]:\n",
    "    week_i=i.text\n",
    "    weeks_on_board.append(week_i)\n",
    "    \n",
    "print(weeks_on_board)    "
   ]
  },
  {
   "cell_type": "code",
   "execution_count": 203,
   "id": "9f4ff02e",
   "metadata": {},
   "outputs": [
    {
     "data": {
      "text/plain": [
       "100"
      ]
     },
     "execution_count": 203,
     "metadata": {},
     "output_type": "execute_result"
    }
   ],
   "source": [
    "len(weeks_on_board)"
   ]
  },
  {
   "cell_type": "code",
   "execution_count": 210,
   "id": "3c87b5fc",
   "metadata": {},
   "outputs": [],
   "source": [
    "driver.close()"
   ]
  },
  {
   "cell_type": "code",
   "execution_count": null,
   "id": "58b74c0e",
   "metadata": {},
   "outputs": [],
   "source": []
  },
  {
   "cell_type": "code",
   "execution_count": null,
   "id": "86a2a294",
   "metadata": {},
   "outputs": [],
   "source": []
  },
  {
   "cell_type": "markdown",
   "id": "0053f707",
   "metadata": {},
   "source": [
    "# QUESTION NO 6 DETAILS OF HIGHEST SELLING NOVELS"
   ]
  },
  {
   "cell_type": "code",
   "execution_count": 114,
   "id": "50977f12",
   "metadata": {},
   "outputs": [],
   "source": [
    "driver=webdriver.Chrome()\n",
    "driver.get(\"https://www.theguardian.com/news/datablog/2012/aug/09/best-selling-books-all-time-fifty-shades-grey-compare\")"
   ]
  },
  {
   "cell_type": "code",
   "execution_count": 116,
   "id": "3679198d",
   "metadata": {},
   "outputs": [
    {
     "name": "stdout",
     "output_type": "stream",
     "text": [
      "[[], ['SOURCE: NIELSEN BOOK SCAN'], ['1', 'Da Vinci Code,The', 'Brown, Dan', '5,094,805', 'Transworld', 'Crime, Thriller & Adventure'], ['2', 'Harry Potter and the Deathly Hallows', 'Rowling, J.K.', '4,475,152', 'Bloomsbury', \"Children's Fiction\"], ['3', \"Harry Potter and the Philosopher's Stone\", 'Rowling, J.K.', '4,200,654', 'Bloomsbury', \"Children's Fiction\"], ['4', 'Harry Potter and the Order of the Phoenix', 'Rowling, J.K.', '4,179,479', 'Bloomsbury', \"Children's Fiction\"], ['5', 'Fifty Shades of Grey', 'James, E. L.', '3,758,936', 'Random House', 'Romance & Sagas'], ['6', 'Harry Potter and the Goblet of Fire', 'Rowling, J.K.', '3,583,215', 'Bloomsbury', \"Children's Fiction\"], ['7', 'Harry Potter and the Chamber of Secrets', 'Rowling, J.K.', '3,484,047', 'Bloomsbury', \"Children's Fiction\"], ['8', 'Harry Potter and the Prisoner of Azkaban', 'Rowling, J.K.', '3,377,906', 'Bloomsbury', \"Children's Fiction\"], ['9', 'Angels and Demons', 'Brown, Dan', '3,193,946', 'Transworld', 'Crime, Thriller & Adventure'], ['10', \"Harry Potter and the Half-blood Prince:Children's Edition\", 'Rowling, J.K.', '2,950,264', 'Bloomsbury', \"Children's Fiction\"], ['11', 'Fifty Shades Darker', 'James, E. L.', '2,479,784', 'Random House', 'Romance & Sagas'], ['12', 'Twilight', 'Meyer, Stephenie', '2,315,405', 'Little, Brown Book', 'Young Adult Fiction'], ['13', 'Girl with the Dragon Tattoo,The:Millennium Trilogy', 'Larsson, Stieg', '2,233,570', 'Quercus', 'Crime, Thriller & Adventure'], ['14', 'Fifty Shades Freed', 'James, E. L.', '2,193,928', 'Random House', 'Romance & Sagas'], ['15', 'Lost Symbol,The', 'Brown, Dan', '2,183,031', 'Transworld', 'Crime, Thriller & Adventure'], ['16', 'New Moon', 'Meyer, Stephenie', '2,152,737', 'Little, Brown Book', 'Young Adult Fiction'], ['17', 'Deception Point', 'Brown, Dan', '2,062,145', 'Transworld', 'Crime, Thriller & Adventure'], ['18', 'Eclipse', 'Meyer, Stephenie', '2,052,876', 'Little, Brown Book', 'Young Adult Fiction'], ['19', 'Lovely Bones,The', 'Sebold, Alice', '2,005,598', 'Pan Macmillan', 'General & Literary Fiction'], ['20', 'Curious Incident of the Dog in the Night-time,The', 'Haddon, Mark', '1,979,552', 'Random House', 'General & Literary Fiction'], ['21', 'Digital Fortress', 'Brown, Dan', '1,928,900', 'Transworld', 'Crime, Thriller & Adventure'], ['22', 'Short History of Nearly Everything,A', 'Bryson, Bill', '1,852,919', 'Transworld', 'Popular Science'], ['23', 'Girl Who Played with Fire,The:Millennium Trilogy', 'Larsson, Stieg', '1,814,784', 'Quercus', 'Crime, Thriller & Adventure'], ['24', 'Breaking Dawn', 'Meyer, Stephenie', '1,787,118', 'Little, Brown Book', 'Young Adult Fiction'], ['25', 'Very Hungry Caterpillar,The:The Very Hungry Caterpillar', 'Carle, Eric', '1,783,535', 'Penguin', 'Picture Books'], ['26', 'Gruffalo,The', 'Donaldson, Julia', '1,781,269', 'Pan Macmillan', 'Picture Books'], ['27', \"Jamie's 30-Minute Meals\", 'Oliver, Jamie', '1,743,266', 'Penguin', 'Food & Drink: General'], ['28', 'Kite Runner,The', 'Hosseini, Khaled', '1,629,119', 'Bloomsbury', 'General & Literary Fiction'], ['29', 'One Day', 'Nicholls, David', '1,616,068', 'Hodder & Stoughton', 'General & Literary Fiction'], ['30', 'Thousand Splendid Suns,A', 'Hosseini, Khaled', '1,583,992', 'Bloomsbury', 'General & Literary Fiction'], ['31', \"Girl Who Kicked the Hornets' Nest,The:Millennium Trilogy\", 'Larsson, Stieg', '1,555,135', 'Quercus', 'Crime, Thriller & Adventure'], ['32', \"Time Traveler's Wife,The\", 'Niffenegger, Audrey', '1,546,886', 'Random House', 'General & Literary Fiction'], ['33', 'Atonement', 'McEwan, Ian', '1,539,428', 'Random House', 'General & Literary Fiction'], ['34', \"Bridget Jones's Diary:A Novel\", 'Fielding, Helen', '1,508,205', 'Pan Macmillan', 'General & Literary Fiction'], ['35', 'World According to Clarkson,The', 'Clarkson, Jeremy', '1,489,403', 'Penguin', 'Humour: Collections & General'], ['36', \"Captain Corelli's Mandolin\", 'Bernieres, Louis de', '1,352,318', 'Random House', 'General & Literary Fiction'], ['37', 'Sound of Laughter,The', 'Kay, Peter', '1,310,207', 'Random House', 'Autobiography: General'], ['38', 'Life of Pi', 'Martel, Yann', '1,310,176', 'Canongate', 'General & Literary Fiction'], ['39', 'Billy Connolly', 'Stephenson, Pamela', '1,231,957', 'HarperCollins', 'Biography: The Arts'], ['40', 'Child Called It,A', 'Pelzer, Dave', '1,217,712', 'Orion', 'Autobiography: General'], ['41', \"Gruffalo's Child,The\", 'Donaldson, Julia', '1,208,711', 'Pan Macmillan', 'Picture Books'], ['42', \"Angela's Ashes:A Memoir of a Childhood\", 'McCourt, Frank', '1,204,058', 'HarperCollins', 'Autobiography: General'], ['43', 'Birdsong', 'Faulks, Sebastian', '1,184,967', 'Random House', 'General & Literary Fiction'], ['44', 'Northern Lights:His Dark Materials S.', 'Pullman, Philip', '1,181,503', 'Scholastic Ltd.', 'Young Adult Fiction'], ['45', 'Labyrinth', 'Mosse, Kate', '1,181,093', 'Orion', 'General & Literary Fiction'], ['46', 'Harry Potter and the Half-blood Prince', 'Rowling, J.K.', '1,153,181', 'Bloomsbury', 'Science Fiction & Fantasy'], ['47', 'Help,The', 'Stockett, Kathryn', '1,132,336', 'Penguin', 'General & Literary Fiction'], ['48', 'Man and Boy', 'Parsons, Tony', '1,130,802', 'HarperCollins', 'General & Literary Fiction'], ['49', 'Memoirs of a Geisha', 'Golden, Arthur', '1,126,337', 'Random House', 'General & Literary Fiction'], ['50', \"No.1 Ladies' Detective Agency,The:No.1 Ladies' Detective Agency S.\", 'McCall Smith, Alexander', '1,115,549', 'Little, Brown Book', 'Crime, Thriller & Adventure'], ['51', 'Island,The', 'Hislop, Victoria', '1,108,328', 'Headline', 'General & Literary Fiction'], ['52', 'PS, I Love You', 'Ahern, Cecelia', '1,107,379', 'HarperCollins', 'General & Literary Fiction'], ['53', 'You are What You Eat:The Plan That Will Change Your Life', 'McKeith, Gillian', '1,104,403', 'Penguin', 'Fitness & Diet'], ['54', 'Shadow of the Wind,The', 'Zafon, Carlos Ruiz', '1,092,349', 'Orion', 'General & Literary Fiction'], ['55', 'Tales of Beedle the Bard,The', 'Rowling, J.K.', '1,090,847', 'Bloomsbury', \"Children's Fiction\"], ['56', 'Broker,The', 'Grisham, John', '1,087,262', 'Random House', 'Crime, Thriller & Adventure'], ['57', \"Dr. Atkins' New Diet Revolution:The No-hunger, Luxurious Weight Loss P\", 'Atkins, Robert C.', '1,054,196', 'Random House', 'Fitness & Diet'], ['58', 'Subtle Knife,The:His Dark Materials S.', 'Pullman, Philip', '1,037,160', 'Scholastic Ltd.', 'Young Adult Fiction'], ['59', 'Eats, Shoots and Leaves:The Zero Tolerance Approach to Punctuation', 'Truss, Lynne', '1,023,688', 'Profile Books Group', 'Usage & Writing Guides'], ['60', \"Delia's How to Cook:(Bk.1)\", 'Smith, Delia', '1,015,956', 'Random House', 'Food & Drink: General'], ['61', 'Chocolat', 'Harris, Joanne', '1,009,873', 'Transworld', 'General & Literary Fiction'], ['62', 'Boy in the Striped Pyjamas,The', 'Boyne, John', '1,004,414', 'Random House Childrens Books G', 'Young Adult Fiction'], ['63', \"My Sister's Keeper\", 'Picoult, Jodi', '1,003,780', 'Hodder & Stoughton', 'General & Literary Fiction'], ['64', 'Amber Spyglass,The:His Dark Materials S.', 'Pullman, Philip', '1,002,314', 'Scholastic Ltd.', 'Young Adult Fiction'], ['65', 'To Kill a Mockingbird', 'Lee, Harper', '998,213', 'Random House', 'General & Literary Fiction'], ['66', 'Men are from Mars, Women are from Venus:A Practical Guide for Improvin', 'Gray, John', '992,846', 'HarperCollins', 'Popular Culture & Media: General Interest'], ['67', 'Dear Fatty', 'French, Dawn', '986,753', 'Random House', 'Autobiography: The Arts'], ['68', 'Short History of Tractors in Ukrainian,A', 'Lewycka, Marina', '986,115', 'Penguin', 'General & Literary Fiction'], ['69', 'Hannibal', 'Harris, Thomas', '970,509', 'Random House', 'Crime, Thriller & Adventure'], ['70', 'Lord of the Rings,The', 'Tolkien, J. R. R.', '967,466', 'HarperCollins', 'Science Fiction & Fantasy'], ['71', 'Stupid White Men:...and Other Sorry Excuses for the State of the Natio', 'Moore, Michael', '963,353', 'Penguin', 'Current Affairs & Issues'], ['72', 'Interpretation of Murder,The', 'Rubenfeld, Jed', '962,515', 'Headline', 'Crime, Thriller & Adventure'], ['73', 'Sharon Osbourne Extreme:My Autobiography', 'Osbourne, Sharon', '959,496', 'Little, Brown Book', 'Autobiography: The Arts'], ['74', 'Alchemist,The:A Fable About Following Your Dream', 'Coelho, Paulo', '956,114', 'HarperCollins', 'General & Literary Fiction'], ['75', \"At My Mother's Knee ...:and Other Low Joints\", \"O'Grady, Paul\", '945,640', 'Transworld', 'Autobiography: The Arts'], ['76', 'Notes from a Small Island', 'Bryson, Bill', '931,312', 'Transworld', 'Travel Writing'], ['77', 'Return of the Naked Chef,The', 'Oliver, Jamie', '925,425', 'Penguin', 'Food & Drink: General'], ['78', 'Bridget Jones: The Edge of Reason', 'Fielding, Helen', '924,695', 'Pan Macmillan', 'General & Literary Fiction'], ['79', \"Jamie's Italy\", 'Oliver, Jamie', '906,968', 'Penguin', 'National & Regional Cuisine'], ['80', 'I Can Make You Thin', 'McKenna, Paul', '905,086', 'Transworld', 'Fitness & Diet'], ['81', 'Down Under', 'Bryson, Bill', '890,847', 'Transworld', 'Travel Writing'], ['82', 'Summons,The', 'Grisham, John', '869,671', 'Random House', 'Crime, Thriller & Adventure'], ['83', 'Small Island', 'Levy, Andrea', '869,659', 'Headline', 'General & Literary Fiction'], ['84', 'Nigella Express', 'Lawson, Nigella', '862,602', 'Random House', 'Food & Drink: General'], ['85', 'Brick Lane', 'Ali, Monica', '856,540', 'Transworld', 'General & Literary Fiction'], ['86', \"Memory Keeper's Daughter,The\", 'Edwards, Kim', '845,858', 'Penguin', 'General & Literary Fiction'], ['87', 'Room on the Broom', 'Donaldson, Julia', '842,535', 'Pan Macmillan', 'Picture Books'], ['88', 'About a Boy', 'Hornby, Nick', '828,215', 'Penguin', 'General & Literary Fiction'], ['89', 'My Booky Wook', 'Brand, Russell', '820,563', 'Hodder & Stoughton', 'Autobiography: The Arts'], ['90', 'God Delusion,The', 'Dawkins, Richard', '816,907', 'Transworld', 'Popular Science'], ['91', '\"Beano\" Annual,The', '0', '816,585', 'D.C. Thomson', \"Children's Annuals\"], ['92', 'White Teeth', 'Smith, Zadie', '815,586', 'Penguin', 'General & Literary Fiction'], ['93', 'House at Riverton,The', 'Morton, Kate', '814,370', 'Pan Macmillan', 'General & Literary Fiction'], ['94', 'Book Thief,The', 'Zusak, Markus', '809,641', 'Transworld', 'General & Literary Fiction'], ['95', 'Nights of Rain and Stars', 'Binchy, Maeve', '808,900', 'Orion', 'General & Literary Fiction'], ['96', 'Ghost,The', 'Harris, Robert', '807,311', 'Random House', 'General & Literary Fiction'], ['97', 'Happy Days with the Naked Chef', 'Oliver, Jamie', '794,201', 'Penguin', 'Food & Drink: General'], ['98', 'Hunger Games,The:Hunger Games Trilogy', 'Collins, Suzanne', '792,187', 'Scholastic Ltd.', 'Young Adult Fiction'], ['99', \"Lost Boy,The:A Foster Child's Search for the Love of a Family\", 'Pelzer, Dave', '791,507', 'Orion', 'Biography: General'], ['100', \"Jamie's Ministry of Food:Anyone Can Learn to Cook in 24 Hours\", 'Oliver, Jamie', '791,095', 'Penguin', 'Food & Drink: General']]\n"
     ]
    }
   ],
   "source": [
    "table=driver.find_element(By.XPATH,'//table[@class=\"in-article sortable\"]') \n",
    "rows=table.find_elements(By.TAG_NAME,'tr')\n",
    "tablerow=[]\n",
    "for row in rows:\n",
    "    columns=row.find_elements(By.XPATH,'td')\n",
    "    row_data=[column.text for column in columns]\n",
    "    tablerow.append(row_data)\n",
    "    \n",
    "    \n",
    "print(tablerow)    "
   ]
  },
  {
   "cell_type": "code",
   "execution_count": 119,
   "id": "1a3b2cbf",
   "metadata": {},
   "outputs": [
    {
     "data": {
      "text/html": [
       "<div>\n",
       "<style scoped>\n",
       "    .dataframe tbody tr th:only-of-type {\n",
       "        vertical-align: middle;\n",
       "    }\n",
       "\n",
       "    .dataframe tbody tr th {\n",
       "        vertical-align: top;\n",
       "    }\n",
       "\n",
       "    .dataframe thead th {\n",
       "        text-align: right;\n",
       "    }\n",
       "</style>\n",
       "<table border=\"1\" class=\"dataframe\">\n",
       "  <thead>\n",
       "    <tr style=\"text-align: right;\">\n",
       "      <th></th>\n",
       "      <th>Book name</th>\n",
       "      <th>Author name</th>\n",
       "      <th>Volumes</th>\n",
       "      <th>publisher</th>\n",
       "      <th>genre</th>\n",
       "      <th>Rank</th>\n",
       "    </tr>\n",
       "  </thead>\n",
       "  <tbody>\n",
       "    <tr>\n",
       "      <th>0</th>\n",
       "      <td>1</td>\n",
       "      <td>Da Vinci Code,The</td>\n",
       "      <td>Brown, Dan</td>\n",
       "      <td>5,094,805</td>\n",
       "      <td>Transworld</td>\n",
       "      <td>1</td>\n",
       "    </tr>\n",
       "    <tr>\n",
       "      <th>1</th>\n",
       "      <td>2</td>\n",
       "      <td>Harry Potter and the Deathly Hallows</td>\n",
       "      <td>Rowling, J.K.</td>\n",
       "      <td>4,475,152</td>\n",
       "      <td>Bloomsbury</td>\n",
       "      <td>2</td>\n",
       "    </tr>\n",
       "    <tr>\n",
       "      <th>2</th>\n",
       "      <td>3</td>\n",
       "      <td>Harry Potter and the Philosopher's Stone</td>\n",
       "      <td>Rowling, J.K.</td>\n",
       "      <td>4,200,654</td>\n",
       "      <td>Bloomsbury</td>\n",
       "      <td>3</td>\n",
       "    </tr>\n",
       "    <tr>\n",
       "      <th>3</th>\n",
       "      <td>4</td>\n",
       "      <td>Harry Potter and the Order of the Phoenix</td>\n",
       "      <td>Rowling, J.K.</td>\n",
       "      <td>4,179,479</td>\n",
       "      <td>Bloomsbury</td>\n",
       "      <td>4</td>\n",
       "    </tr>\n",
       "    <tr>\n",
       "      <th>4</th>\n",
       "      <td>5</td>\n",
       "      <td>Fifty Shades of Grey</td>\n",
       "      <td>James, E. L.</td>\n",
       "      <td>3,758,936</td>\n",
       "      <td>Random House</td>\n",
       "      <td>5</td>\n",
       "    </tr>\n",
       "    <tr>\n",
       "      <th>...</th>\n",
       "      <td>...</td>\n",
       "      <td>...</td>\n",
       "      <td>...</td>\n",
       "      <td>...</td>\n",
       "      <td>...</td>\n",
       "      <td>...</td>\n",
       "    </tr>\n",
       "    <tr>\n",
       "      <th>95</th>\n",
       "      <td>96</td>\n",
       "      <td>Ghost,The</td>\n",
       "      <td>Harris, Robert</td>\n",
       "      <td>807,311</td>\n",
       "      <td>Random House</td>\n",
       "      <td>96</td>\n",
       "    </tr>\n",
       "    <tr>\n",
       "      <th>96</th>\n",
       "      <td>97</td>\n",
       "      <td>Happy Days with the Naked Chef</td>\n",
       "      <td>Oliver, Jamie</td>\n",
       "      <td>794,201</td>\n",
       "      <td>Penguin</td>\n",
       "      <td>97</td>\n",
       "    </tr>\n",
       "    <tr>\n",
       "      <th>97</th>\n",
       "      <td>98</td>\n",
       "      <td>Hunger Games,The:Hunger Games Trilogy</td>\n",
       "      <td>Collins, Suzanne</td>\n",
       "      <td>792,187</td>\n",
       "      <td>Scholastic Ltd.</td>\n",
       "      <td>98</td>\n",
       "    </tr>\n",
       "    <tr>\n",
       "      <th>98</th>\n",
       "      <td>99</td>\n",
       "      <td>Lost Boy,The:A Foster Child's Search for the L...</td>\n",
       "      <td>Pelzer, Dave</td>\n",
       "      <td>791,507</td>\n",
       "      <td>Orion</td>\n",
       "      <td>99</td>\n",
       "    </tr>\n",
       "    <tr>\n",
       "      <th>99</th>\n",
       "      <td>100</td>\n",
       "      <td>Jamie's Ministry of Food:Anyone Can Learn to C...</td>\n",
       "      <td>Oliver, Jamie</td>\n",
       "      <td>791,095</td>\n",
       "      <td>Penguin</td>\n",
       "      <td>100</td>\n",
       "    </tr>\n",
       "  </tbody>\n",
       "</table>\n",
       "<p>100 rows × 6 columns</p>\n",
       "</div>"
      ],
      "text/plain": [
       "   Book name                                        Author name  \\\n",
       "0          1                                  Da Vinci Code,The   \n",
       "1          2               Harry Potter and the Deathly Hallows   \n",
       "2          3           Harry Potter and the Philosopher's Stone   \n",
       "3          4          Harry Potter and the Order of the Phoenix   \n",
       "4          5                               Fifty Shades of Grey   \n",
       "..       ...                                                ...   \n",
       "95        96                                          Ghost,The   \n",
       "96        97                     Happy Days with the Naked Chef   \n",
       "97        98              Hunger Games,The:Hunger Games Trilogy   \n",
       "98        99  Lost Boy,The:A Foster Child's Search for the L...   \n",
       "99       100  Jamie's Ministry of Food:Anyone Can Learn to C...   \n",
       "\n",
       "             Volumes  publisher            genre  Rank  \n",
       "0         Brown, Dan  5,094,805       Transworld     1  \n",
       "1      Rowling, J.K.  4,475,152       Bloomsbury     2  \n",
       "2      Rowling, J.K.  4,200,654       Bloomsbury     3  \n",
       "3      Rowling, J.K.  4,179,479       Bloomsbury     4  \n",
       "4       James, E. L.  3,758,936     Random House     5  \n",
       "..               ...        ...              ...   ...  \n",
       "95    Harris, Robert    807,311     Random House    96  \n",
       "96     Oliver, Jamie    794,201          Penguin    97  \n",
       "97  Collins, Suzanne    792,187  Scholastic Ltd.    98  \n",
       "98      Pelzer, Dave    791,507            Orion    99  \n",
       "99     Oliver, Jamie    791,095          Penguin   100  \n",
       "\n",
       "[100 rows x 6 columns]"
      ]
     },
     "execution_count": 119,
     "metadata": {},
     "output_type": "execute_result"
    }
   ],
   "source": [
    "column_names=[\"Book name\",\"Author name\",\"Volumes\",\"publisher\",\"genre\",\"ABC\"]\n",
    "df=pd.DataFrame(tablerow[2:],columns=column_names)\n",
    "df['Rank']=df.index+1\n",
    "df.drop(\"ABC\",axis=1,inplace=True)\n",
    "df"
   ]
  },
  {
   "cell_type": "code",
   "execution_count": null,
   "id": "a273f7db",
   "metadata": {},
   "outputs": [],
   "source": []
  },
  {
   "cell_type": "code",
   "execution_count": null,
   "id": "6e5d79ed",
   "metadata": {},
   "outputs": [],
   "source": []
  },
  {
   "cell_type": "markdown",
   "id": "c59f9a82",
   "metadata": {},
   "source": [
    "# QUESTION NO 7 DETAILS OF MOST WATCHED TV SERIES"
   ]
  },
  {
   "cell_type": "code",
   "execution_count": 29,
   "id": "3e46a82d",
   "metadata": {},
   "outputs": [],
   "source": [
    "driver=webdriver.Chrome()"
   ]
  },
  {
   "cell_type": "code",
   "execution_count": 30,
   "id": "aa770cb4",
   "metadata": {},
   "outputs": [],
   "source": [
    "driver.get(\"https://www.imdb.com/search/title/?title_type=tv_series&sort=num_votes,desc\")"
   ]
  },
  {
   "cell_type": "code",
   "execution_count": 31,
   "id": "3ea7d8ee",
   "metadata": {},
   "outputs": [
    {
     "name": "stdout",
     "output_type": "stream",
     "text": [
      "['1. Game of Thrones', '2. Breaking Bad', '3. Stranger Things', '4. Friends', '5. The Walking Dead', '6. Sherlock', '7. The Big Bang Theory', '8. Dexter', '9. How I Met Your Mother', '10. The Office', '11. True Detective', '12. Peaky Blinders', '13. Better Call Saul', '14. The Boys', '15. Black Mirror', '16. Rick and Morty', '17. Lost', '18. The Mandalorian', '19. Vikings', '20. Prison Break', '21. The Witcher', '22. Squid Game', '23. Westworld', '24. House of Cards', '25. Money Heist', '26. House', '27. The Last of Us', '28. Attack on Titan', '29. Supernatural', '30. Modern Family', '31. Suits', '32. Daredevil', '33. Narcos', '34. The Sopranos', '35. Arrow', '36. Dark', '37. The Simpsons', '38. Fargo', '39. Mr. Robot', '40. Loki', '41. South Park', '42. The Wire', '43. Death Note', '44. The Flash', '45. House of the Dragon', '46. Family Guy', '47. Homeland', '48. Avatar: The Last Airbender', '49. Brooklyn Nine-Nine', '50. Wednesday']\n"
     ]
    }
   ],
   "source": [
    "name=[]\n",
    "name_tags=driver.find_elements(By.XPATH,'//a[@class=\"ipc-title-link-wrapper\"]/h3')\n",
    "for i in name_tags:\n",
    "    name_i=i.text\n",
    "    name.append(name_i)\n",
    "    \n",
    "    \n",
    "print(name)    "
   ]
  },
  {
   "cell_type": "code",
   "execution_count": 32,
   "id": "30569ccd",
   "metadata": {},
   "outputs": [
    {
     "name": "stdout",
     "output_type": "stream",
     "text": [
      "['2011–2019\\nTV-MA', '2008–2013\\nTV-MA', '2016–2025\\nTV-14', '1994–2004\\nTV-14', '2010–2022\\nTV-MA', '2010–2017\\nTV-14', '2007–2019\\nTV-PG', '2006–2013\\nTV-MA', '2005–2014\\nTV-14', '2005–2013\\nTV-14', '2014–\\nTV-MA', '2013–2022\\nTV-MA', '2015–2022\\nTV-MA', '2019–\\nTV-MA', '2011–\\nTV-MA', '2013–\\nTV-MA', '2004–2010\\nTV-14', '2019–\\nTV-14', '2013–2020\\nTV-MA', '2005–2017\\nTV-14', '2019–\\nTV-MA', '2021–\\nTV-MA', '2016–2022\\nTV-MA', '2013–2018\\nTV-MA', '2017–2021\\nTV-MA', '2004–2012\\nTV-14', '2023–\\nTV-MA', '2013–2023\\nTV-MA', '2005–2020\\nTV-14', '2009–2020\\nTV-PG', '2011–2019\\nTV-14', '2015–2018\\nTV-MA', '2015–2017\\nTV-MA', '1999–2007\\nTV-MA', '2012–2020\\nTV-14', '2017–2020\\nTV-MA', '1989–\\nTV-14', '2014–2024\\nTV-MA', '2015–2019\\nTV-MA', '2021–2023\\nTV-14', '1997–\\nTV-MA', '2002–2008\\nTV-MA', '2006–2007\\nTV-14', '2014–2023\\nTV-PG', '2022–\\nTV-MA', '1999–2025\\nTV-MA', '2011–2020\\nTV-MA', '2005–2008\\nTV-Y7-FV', '2013–2021\\nTV-14', '2022–\\nTV-14']\n"
     ]
    }
   ],
   "source": [
    "year_span=[]\n",
    "span_tags=driver.find_elements(By.XPATH,'//div[@class=\"sc-be6f1408-7 iUtHEN dli-title-metadata\"]')\n",
    "for i in span_tags:\n",
    "    span_i=i.text\n",
    "    year_span.append(span_i)\n",
    "    \n",
    "print(year_span)    "
   ]
  },
  {
   "cell_type": "code",
   "execution_count": 33,
   "id": "539230c3",
   "metadata": {},
   "outputs": [
    {
     "data": {
      "text/plain": [
       "50"
      ]
     },
     "execution_count": 33,
     "metadata": {},
     "output_type": "execute_result"
    }
   ],
   "source": [
    "len(year_span)"
   ]
  },
  {
   "cell_type": "code",
   "execution_count": 34,
   "id": "b680b323",
   "metadata": {},
   "outputs": [
    {
     "name": "stdout",
     "output_type": "stream",
     "text": [
      "['9.2\\n (2.3M)', '9.5\\n (2.1M)', '8.7\\n (1.3M)', '8.9\\n (1.1M)', '8.1\\n (1.1M)', '9.1\\n (988K)', '8.2\\n (860K)', '8.7\\n (759K)', '8.3\\n (723K)', '9.0\\n (698K)', '8.9\\n (640K)', '8.8\\n (636K)', '9.0\\n (635K)', '8.7\\n (633K)', '8.7\\n (632K)', '9.1\\n (593K)', '8.3\\n (590K)', '8.7\\n (579K)', '8.5\\n (575K)', '8.3\\n (574K)', '8.0\\n (564K)', '8.0\\n (530K)', '8.5\\n (529K)', '8.6\\n (528K)', '8.2\\n (526K)', '8.7\\n (504K)', '8.8\\n (500K)', '9.1\\n (497K)', '8.4\\n (478K)', '8.5\\n (476K)', '8.4\\n (471K)', '8.6\\n (471K)', '8.8\\n (465K)', '9.2\\n (462K)', '7.5\\n (445K)', '8.7\\n (437K)', '8.7\\n (433K)', '8.9\\n (415K)', '8.5\\n (415K)', '8.2\\n (406K)', '8.7\\n (403K)', '9.3\\n (372K)', '8.9\\n (372K)', '7.5\\n (367K)', '8.4\\n (363K)', '8.2\\n (362K)', '8.3\\n (359K)', '9.3\\n (356K)', '8.4\\n (355K)', '8.1\\n (352K)']\n"
     ]
    }
   ],
   "source": [
    "rating=[]\n",
    "rating_tags=driver.find_elements(By.XPATH,'//span[@class=\"ipc-rating-star ipc-rating-star--base ipc-rating-star--imdb ratingGroup--imdb-rating\"]')\n",
    "for i in rating_tags:\n",
    "    rating_i=i.text\n",
    "    rating.append(rating_i)\n",
    "    \n",
    "print(rating)    "
   ]
  },
  {
   "cell_type": "code",
   "execution_count": 35,
   "id": "9d6a752c",
   "metadata": {},
   "outputs": [
    {
     "name": "stdout",
     "output_type": "stream",
     "text": [
      "['Votes2,258,468', 'Votes2,105,688', 'Votes1,317,595', 'Votes1,077,039', 'Votes1,070,078', 'Votes988,058', 'Votes859,798', 'Votes758,682', 'Votes723,220', 'Votes697,966', 'Votes639,818', 'Votes635,834', 'Votes635,066', 'Votes632,990', 'Votes631,953', 'Votes593,490', 'Votes589,540', 'Votes579,380', 'Votes575,088', 'Votes574,137', 'Votes564,344', 'Votes529,949', 'Votes529,158', 'Votes527,867', 'Votes525,709', 'Votes503,813', 'Votes500,165', 'Votes497,286', 'Votes478,329', 'Votes476,219', 'Votes470,985', 'Votes470,713', 'Votes464,868', 'Votes461,539', 'Votes444,536', 'Votes436,809', 'Votes432,564', 'Votes415,256', 'Votes414,680', 'Votes405,780', 'Votes402,941', 'Votes372,424', 'Votes371,802', 'Votes366,699', 'Votes362,703', 'Votes361,587', 'Votes358,963', 'Votes356,431', 'Votes355,488', 'Votes352,313']\n"
     ]
    }
   ],
   "source": [
    "votes=[]\n",
    "vote_tags=driver.find_elements(By.XPATH,'//div[@class=\"sc-f24f1c5c-0 cPpOqU\"]')\n",
    "for i in vote_tags:\n",
    "    vote_i=i.text\n",
    "    votes.append(vote_i)\n",
    "    \n",
    "print(votes)    "
   ]
  },
  {
   "cell_type": "code",
   "execution_count": null,
   "id": "b9f8ad92",
   "metadata": {},
   "outputs": [],
   "source": []
  },
  {
   "cell_type": "code",
   "execution_count": null,
   "id": "5e9836ad",
   "metadata": {},
   "outputs": [],
   "source": []
  },
  {
   "cell_type": "code",
   "execution_count": null,
   "id": "5bfb812f",
   "metadata": {},
   "outputs": [],
   "source": []
  },
  {
   "cell_type": "markdown",
   "id": "3eccb058",
   "metadata": {},
   "source": [
    "# QUESTION NO 8 DETAILS OF DATASETS FROM UCI MACHINE LEARNING REPOSITORIES"
   ]
  },
  {
   "cell_type": "code",
   "execution_count": 254,
   "id": "41518157",
   "metadata": {},
   "outputs": [],
   "source": [
    "driver=webdriver.Chrome()"
   ]
  },
  {
   "cell_type": "code",
   "execution_count": 255,
   "id": "6f773515",
   "metadata": {},
   "outputs": [],
   "source": [
    "driver.get('https://archive.ics.uci.edu/')"
   ]
  },
  {
   "cell_type": "code",
   "execution_count": 256,
   "id": "a8d91253",
   "metadata": {},
   "outputs": [],
   "source": [
    "datasets=driver.find_element(By.XPATH,'/html/body/div/div[1]/div[1]/main/div/div[1]/div/div/div/a[1]')\n",
    "datasets.click()"
   ]
  },
  {
   "cell_type": "code",
   "execution_count": 257,
   "id": "914e4ae6",
   "metadata": {},
   "outputs": [],
   "source": [
    "#scrapping the details of dataset name from 10 pages\n",
    "dataset_name=[]\n",
    "start=0\n",
    "end=10\n",
    "for page in range(start,end):\n",
    "    name_tags=driver.find_elements(By.XPATH,'//a[@class=\"link-hover link text-xl font-semibold\"]')\n",
    "    for i in name_tags:\n",
    "        name_i=i.text\n",
    "        dataset_name.append(name_i)\n",
    "    next=driver.find_element(By.XPATH,'/html/body/div/div[1]/div[1]/main/div/div[2]/div[3]/div/button[2]') \n",
    "    next.click()"
   ]
  },
  {
   "cell_type": "code",
   "execution_count": 258,
   "id": "ebde334a",
   "metadata": {},
   "outputs": [
    {
     "name": "stdout",
     "output_type": "stream",
     "text": [
      "['Iris', 'Dry Bean Dataset', 'Heart Disease', 'Rice (Cammeo and Osmancik)', 'Adult', 'Raisin', 'Wine', 'Breast Cancer Wisconsin (Diagnostic)', 'Wine Quality', 'Diabetes', 'Iris', 'Dry Bean Dataset', 'Heart Disease', 'Rice (Cammeo and Osmancik)', 'Adult', 'Raisin', 'Wine', 'Breast Cancer Wisconsin (Diagnostic)', 'Wine Quality', 'Diabetes', 'Iris', 'Dry Bean Dataset', 'Heart Disease', 'Rice (Cammeo and Osmancik)', 'Adult', 'Raisin', 'Wine', 'Breast Cancer Wisconsin (Diagnostic)', 'Wine Quality', 'Diabetes', 'Iris', 'Dry Bean Dataset', 'Heart Disease', 'Rice (Cammeo and Osmancik)', 'Adult', 'Raisin', 'Wine', 'Breast Cancer Wisconsin (Diagnostic)', 'Wine Quality', 'Diabetes', 'Iris', 'Dry Bean Dataset', 'Heart Disease', 'Rice (Cammeo and Osmancik)', 'Adult', 'Raisin', 'Wine', 'Breast Cancer Wisconsin (Diagnostic)', 'Wine Quality', 'Diabetes', 'Iris', 'Dry Bean Dataset', 'Heart Disease', 'Rice (Cammeo and Osmancik)', 'Adult', 'Raisin', 'Wine', 'Breast Cancer Wisconsin (Diagnostic)', 'Wine Quality', 'Diabetes', 'Iris', 'Dry Bean Dataset', 'Heart Disease', 'Rice (Cammeo and Osmancik)', 'Adult', 'Raisin', 'Wine', 'Breast Cancer Wisconsin (Diagnostic)', 'Wine Quality', 'Diabetes', 'Iris', 'Dry Bean Dataset', 'Heart Disease', 'Rice (Cammeo and Osmancik)', 'Adult', 'Raisin', 'Wine', 'Breast Cancer Wisconsin (Diagnostic)', 'Wine Quality', 'Diabetes', 'Iris', 'Dry Bean Dataset', 'Heart Disease', 'Rice (Cammeo and Osmancik)', 'Adult', 'Raisin', 'Wine', 'Breast Cancer Wisconsin (Diagnostic)', 'Wine Quality', 'Diabetes', 'Iris', 'Dry Bean Dataset', 'Heart Disease', 'Rice (Cammeo and Osmancik)', 'Adult', 'Raisin', 'Wine', 'Breast Cancer Wisconsin (Diagnostic)', 'Wine Quality', 'Diabetes']\n"
     ]
    }
   ],
   "source": [
    "print(dataset_name)"
   ]
  },
  {
   "cell_type": "code",
   "execution_count": 259,
   "id": "9db5e161",
   "metadata": {},
   "outputs": [
    {
     "data": {
      "text/plain": [
       "100"
      ]
     },
     "execution_count": 259,
     "metadata": {},
     "output_type": "execute_result"
    }
   ],
   "source": [
    "len(dataset_name)"
   ]
  },
  {
   "cell_type": "code",
   "execution_count": 262,
   "id": "92c2cab8",
   "metadata": {},
   "outputs": [
    {
     "name": "stdout",
     "output_type": "stream",
     "text": [
      "['Tabular', 'Multivariate', 'Multivariate', 'Multivariate, Time-Series', 'Multivariate, Sequential, Time-Series', '191.78K Instances', '147.27K Instances', '12.68K Instances', '202 Instances', 'Tabular', 'Multivariate', 'Multivariate', 'Multivariate, Time-Series', 'Multivariate, Sequential, Time-Series', '191.78K Instances', '147.27K Instances', '12.68K Instances', '202 Instances', 'Tabular', 'Multivariate', 'Multivariate', 'Multivariate, Time-Series', 'Multivariate, Sequential, Time-Series', '191.78K Instances', '147.27K Instances', '12.68K Instances', '202 Instances', 'Tabular', 'Multivariate', 'Multivariate', 'Multivariate, Time-Series', 'Multivariate, Sequential, Time-Series', '191.78K Instances', '147.27K Instances', '12.68K Instances', '202 Instances', 'Tabular', 'Multivariate', 'Multivariate', 'Multivariate, Time-Series', 'Multivariate, Sequential, Time-Series', '191.78K Instances', '147.27K Instances', '12.68K Instances', '202 Instances', 'Tabular', 'Multivariate', 'Multivariate', 'Multivariate, Time-Series', 'Multivariate, Sequential, Time-Series', '191.78K Instances', '147.27K Instances', '12.68K Instances', '202 Instances', 'Tabular', 'Multivariate', 'Multivariate', 'Multivariate, Time-Series', 'Multivariate, Sequential, Time-Series', '191.78K Instances', '147.27K Instances', '12.68K Instances', '202 Instances', 'Tabular', 'Multivariate', 'Multivariate', 'Multivariate, Time-Series', 'Multivariate, Sequential, Time-Series', '191.78K Instances', '147.27K Instances', '12.68K Instances', '202 Instances', 'Tabular', 'Multivariate', 'Multivariate', 'Multivariate, Time-Series', 'Multivariate, Sequential, Time-Series', '191.78K Instances', '147.27K Instances', '12.68K Instances', '202 Instances', 'Tabular', 'Multivariate', 'Multivariate', 'Multivariate, Time-Series', 'Multivariate, Sequential, Time-Series', '191.78K Instances', '147.27K Instances', '12.68K Instances', '202 Instances']\n"
     ]
    }
   ],
   "source": [
    "#scrapping the details of datatype\n",
    "data_type=[]\n",
    "start=0\n",
    "end=10\n",
    "for page in range(start,end):\n",
    "    type_tags=driver.find_elements(By.XPATH,'//div[@class=\"col-span-3 flex items-center gap-2\"]')\n",
    "    for i in type_tags[1::4]:\n",
    "        data_i=i.text\n",
    "        if len(data_i)==0:\n",
    "            data_type.append(\"--\")\n",
    "        else:\n",
    "            data_type.append(data_i)\n",
    "        \n",
    "        \n",
    "    next=driver.find_element(By.XPATH,'/html/body/div/div[1]/div[1]/main/div/div[2]/div[3]/div/button[2]') \n",
    "    next.click()\n",
    "    \n",
    "    \n",
    "print(data_type)    "
   ]
  },
  {
   "cell_type": "code",
   "execution_count": 264,
   "id": "a94ef36c",
   "metadata": {},
   "outputs": [
    {
     "data": {
      "text/plain": [
       "90"
      ]
     },
     "execution_count": 264,
     "metadata": {},
     "output_type": "execute_result"
    }
   ],
   "source": [
    "len(data_type)"
   ]
  },
  {
   "cell_type": "code",
   "execution_count": 267,
   "id": "f7c50203",
   "metadata": {},
   "outputs": [
    {
     "name": "stdout",
     "output_type": "stream",
     "text": [
      "['150 Instances', '13.61K Instances', '303 Instances', '3.81K Instances', '48.84K Instances', '900 Instances', '178 Instances', '569 Instances', '4.9K Instances', '1 Instances', '150 Instances', '13.61K Instances', '303 Instances', '3.81K Instances', '48.84K Instances', '900 Instances', '178 Instances', '569 Instances', '4.9K Instances', '1 Instances', '150 Instances', '13.61K Instances', '303 Instances', '3.81K Instances', '48.84K Instances', '900 Instances', '178 Instances', '569 Instances', '4.9K Instances', '1 Instances', '150 Instances', '13.61K Instances', '303 Instances', '3.81K Instances', '48.84K Instances', '900 Instances', '178 Instances', '569 Instances', '4.9K Instances', '1 Instances', '150 Instances', '13.61K Instances', '303 Instances', '3.81K Instances', '48.84K Instances', '900 Instances', '178 Instances', '569 Instances', '4.9K Instances', '1 Instances', '150 Instances', '13.61K Instances', '303 Instances', '3.81K Instances', '48.84K Instances', '900 Instances', '178 Instances', '569 Instances', '4.9K Instances', '1 Instances', '435 Instances', '208 Instances', '1.48K Instances', '210 Instances', '19 Features', '9 Features', '21 Features', 'Classification', 'Classification, Regression', '12.96K Instances', '452 Instances', '14 Features', '14 Features', '8 Features', 'Regression', 'Classification', 'Multivariate', 'Multivariate', '12.96K Instances', '452 Instances', '14 Features', '14 Features', '8 Features', 'Regression', 'Classification', 'Multivariate', 'Multivariate', '12.96K Instances', '452 Instances', '14 Features', '14 Features', '8 Features', 'Regression', 'Classification', 'Multivariate', 'Multivariate']\n",
      "96\n"
     ]
    }
   ],
   "source": [
    "#scrapping the instances details of datatype\n",
    "\n",
    "ins=[]\n",
    "start=0\n",
    "end=10\n",
    "for page in range(start,end):\n",
    "    ins_tags=driver.find_elements(By.XPATH,'//div[@class=\"col-span-3 flex items-center gap-2\"]')\n",
    "    for i in ins_tags[2::4]:\n",
    "        ins_i=i.text\n",
    "        if len(ins_i)==0:\n",
    "            ins.append(\"--\")\n",
    "        else:\n",
    "            ins.append(ins_i)     \n",
    "    next=driver.find_element(By.XPATH,'/html/body/div/div[1]/div[1]/main/div/div[2]/div[3]/div/button[2]') \n",
    "    next.click()\n",
    "\n",
    "print(ins)\n",
    "print(len(ins))"
   ]
  },
  {
   "cell_type": "code",
   "execution_count": 268,
   "id": "17e73b8a",
   "metadata": {},
   "outputs": [
    {
     "name": "stdout",
     "output_type": "stream",
     "text": [
      "['Classification', 'Classification', 'Classification', 'Classification, Regression', 'Classification, Regression', 'Classification', 'Classification, Clustering', 'Regression', 'Classification', 'Classification', 'Classification', 'Classification', 'Classification', 'Classification, Regression', 'Classification, Regression', 'Classification', 'Classification, Clustering', 'Regression', 'Classification', 'Classification', 'Regression', 'Classification', 'Classification', 'Classification', 'Classification', 'Classification', 'Classification', 'Regression', 'Classification', 'Multivariate', 'Multivariate', 'Multivariate, Time-Series', 'Multivariate, Text, Domain-Theory', '17.39K Instances', '101 Instances', '2.08M Instances', '32 Instances', '345 Instances', '19.02K Instances', '581.01K Instances', '5.62K Instances', '10.3K Instances', '1.48K Instances', '--', '19 Features', '9 Features', '21 Features', '--', '16 Features', '8 Features', '16 Features', '60 Features', '8 Features', 'Classification', 'Classification', 'Regression', 'Classification', 'Multivariate', 'Multivariate', 'Multivariate', 'Multivariate', '8.76K Instances', '690 Instances', '440 Instances', '198 Instances', '61 Features', 'Classification', 'Regression', 'Multivariate', 'Multivariate', '10K Instances', '307 Instances', '58K Instances', '30 Features', '86 Features', '18 Features', '--', '17 Features', '36 Features', '336 Instances', '1.37K Instances', '8 Features', '30 Features', '86 Features', '4 Features', '--', '7.8K Instances', '19.74K Instances', '1.47K Instances', '35 Features', '58 Features', '--', '128 Features', '294 Features', '6 Features']\n",
      "95\n"
     ]
    }
   ],
   "source": [
    "#scrapping the details of task from the given page\n",
    "data_type=[]\n",
    "task=[]\n",
    "start=0\n",
    "end=10\n",
    "for page in range(start,end):\n",
    "    type_tags=driver.find_elements(By.XPATH,'//div[@class=\"col-span-3 flex items-center gap-2\"]')\n",
    "    for i in type_tags:\n",
    "        data_i=i.text\n",
    "        if len(data_i)==0:\n",
    "            data_type.append(\"--\")\n",
    "        else:\n",
    "            data_type.append(data_i)     \n",
    "    next=driver.find_element(By.XPATH,'/html/body/div/div[1]/div[1]/main/div/div[2]/div[3]/div/button[2]') \n",
    "    next.click()\n",
    "task=data_type[::4]\n",
    "print(task)\n",
    "print(len(task))\n",
    "\n"
   ]
  },
  {
   "cell_type": "code",
   "execution_count": 269,
   "id": "e31973d2",
   "metadata": {},
   "outputs": [],
   "source": [
    "driver.close()"
   ]
  },
  {
   "cell_type": "code",
   "execution_count": null,
   "id": "c720a9ba",
   "metadata": {},
   "outputs": [],
   "source": []
  }
 ],
 "metadata": {
  "kernelspec": {
   "display_name": "Python 3 (ipykernel)",
   "language": "python",
   "name": "python3"
  },
  "language_info": {
   "codemirror_mode": {
    "name": "ipython",
    "version": 3
   },
   "file_extension": ".py",
   "mimetype": "text/x-python",
   "name": "python",
   "nbconvert_exporter": "python",
   "pygments_lexer": "ipython3",
   "version": "3.10.9"
  }
 },
 "nbformat": 4,
 "nbformat_minor": 5
}
