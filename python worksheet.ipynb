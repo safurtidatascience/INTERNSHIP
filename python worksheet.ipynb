{
 "cells": [
  {
   "cell_type": "code",
   "execution_count": 1,
   "id": "2ce29047",
   "metadata": {},
   "outputs": [
    {
     "data": {
      "text/plain": [
       "0"
      ]
     },
     "execution_count": 1,
     "metadata": {},
     "output_type": "execute_result"
    }
   ],
   "source": [
    "#ques no 2\n",
    "2//3"
   ]
  },
  {
   "cell_type": "code",
   "execution_count": 2,
   "id": "2baa384b",
   "metadata": {},
   "outputs": [
    {
     "data": {
      "text/plain": [
       "24"
      ]
     },
     "execution_count": 2,
     "metadata": {},
     "output_type": "execute_result"
    }
   ],
   "source": [
    "#question  no 3\n",
    "6<<2"
   ]
  },
  {
   "cell_type": "code",
   "execution_count": 3,
   "id": "d7afa017",
   "metadata": {},
   "outputs": [
    {
     "data": {
      "text/plain": [
       "2"
      ]
     },
     "execution_count": 3,
     "metadata": {},
     "output_type": "execute_result"
    }
   ],
   "source": [
    "#question no 4\n",
    "6&2"
   ]
  },
  {
   "cell_type": "code",
   "execution_count": 4,
   "id": "06a0ac4a",
   "metadata": {},
   "outputs": [
    {
     "data": {
      "text/plain": [
       "6"
      ]
     },
     "execution_count": 4,
     "metadata": {},
     "output_type": "execute_result"
    }
   ],
   "source": [
    "#question no 6\n",
    "6|2"
   ]
  },
  {
   "cell_type": "code",
   "execution_count": 1,
   "id": "3fe7f3b7",
   "metadata": {},
   "outputs": [
    {
     "name": "stdout",
     "output_type": "stream",
     "text": [
      "enter any number5\n",
      "the factorial of 5 is 120\n"
     ]
    }
   ],
   "source": [
    "#question no 11 to find the factorial of any no\n",
    "num=int(input(\"enter any number\"))\n",
    "factorial=1\n",
    "\n",
    "if num<0:\n",
    "    print(\"factorial does not exist\")\n",
    "elif num==0:\n",
    "    print(\"factorial is 1\")\n",
    "else:\n",
    "    for i in range(1,num+1):\n",
    "        factorial=factorial*i\n",
    " \n",
    "\n",
    "print(\"the factorial of\",num,\"is\",factorial)\n",
    "        \n",
    "    "
   ]
  },
  {
   "cell_type": "code",
   "execution_count": 34,
   "id": "09e0d657",
   "metadata": {},
   "outputs": [
    {
     "name": "stdout",
     "output_type": "stream",
     "text": [
      "enter any number8\n",
      "8 is a composite number\n"
     ]
    }
   ],
   "source": [
    "#question no 12 to find whether the no is prime or composite\n",
    "number=int(input(\"enter any number\"))\n",
    "count=0\n",
    "for i in range(2,number):\n",
    "    if number%i==0:\n",
    "        count=count+1\n",
    "if count>=1:\n",
    "    print(number,\"is a composite number\")\n",
    "else:\n",
    "    print(number,\"is a prime number\")\n"
   ]
  },
  {
   "cell_type": "code",
   "execution_count": 18,
   "id": "677549e9",
   "metadata": {},
   "outputs": [
    {
     "name": "stdout",
     "output_type": "stream",
     "text": [
      "enter a stringnaman\n",
      "naman is a palindrome\n"
     ]
    }
   ],
   "source": [
    "str=input(\"enter a string\")\n",
    "if str==str[::-1]:\n",
    "    print(str,\"is a palindrome\")\n",
    "else:\n",
    "    print(str,\"is not a palindrome\")\n",
    "         "
   ]
  },
  {
   "cell_type": "code",
   "execution_count": 21,
   "id": "f464a09a",
   "metadata": {},
   "outputs": [
    {
     "name": "stdout",
     "output_type": "stream",
     "text": [
      "enter first side of right angled triangle5\n",
      "enter second side of right angled triangle6\n",
      "hypotgenuse of right angled triangle is: 61\n"
     ]
    }
   ],
   "source": [
    "#ques no 14 \n",
    "a=int(input(\"enter first side of right angled triangle\"))\n",
    "b=int(input(\"enter second side of right angled triangle\")) \n",
    "c=(a**2+b**2) \n",
    "print(\"hypotgenuse of right angled triangle is:\",c)      \n",
    "      \n",
    "      \n",
    "   "
   ]
  },
  {
   "cell_type": "code",
   "execution_count": 29,
   "id": "66c26789",
   "metadata": {},
   "outputs": [
    {
     "name": "stdout",
     "output_type": "stream",
     "text": [
      "enter the stringanimal\n",
      "{'a': 2, 'n': 1, 'i': 1, 'm': 1, 'l': 1}\n"
     ]
    }
   ],
   "source": [
    "#ques no 15 to print the frequency of each of the characters\n",
    "string=input(\"enter the string\")\n",
    "d=dict()\n",
    "for i in string:\n",
    "    if i in d:\n",
    "        d[i]=d[i]+1\n",
    "    else:\n",
    "        d[i]=1\n",
    "       \n",
    "print(d)   "
   ]
  },
  {
   "cell_type": "code",
   "execution_count": null,
   "id": "c1c3b63d",
   "metadata": {},
   "outputs": [],
   "source": []
  },
  {
   "cell_type": "code",
   "execution_count": null,
   "id": "4d818b50",
   "metadata": {},
   "outputs": [],
   "source": []
  },
  {
   "cell_type": "code",
   "execution_count": null,
   "id": "5a8c3e0c",
   "metadata": {},
   "outputs": [],
   "source": []
  }
 ],
 "metadata": {
  "kernelspec": {
   "display_name": "Python 3 (ipykernel)",
   "language": "python",
   "name": "python3"
  },
  "language_info": {
   "codemirror_mode": {
    "name": "ipython",
    "version": 3
   },
   "file_extension": ".py",
   "mimetype": "text/x-python",
   "name": "python",
   "nbconvert_exporter": "python",
   "pygments_lexer": "ipython3",
   "version": "3.10.9"
  }
 },
 "nbformat": 4,
 "nbformat_minor": 5
}
